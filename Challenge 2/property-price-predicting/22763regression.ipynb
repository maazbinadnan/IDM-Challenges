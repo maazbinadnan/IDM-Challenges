{
 "cells": [
  {
   "cell_type": "code",
   "execution_count": 2,
   "metadata": {},
   "outputs": [],
   "source": [
    "import os\n",
    "import pandas as pd"
   ]
  },
  {
   "cell_type": "code",
   "execution_count": 3,
   "metadata": {},
   "outputs": [
    {
     "data": {
      "text/plain": [
       "'c:\\\\Users\\\\HP\\\\Dropbox\\\\maaz iba work\\\\Iba\\\\semester 5\\\\Intro to Data Management\\\\Challenge 2\\\\property-price-predicting'"
      ]
     },
     "execution_count": 3,
     "metadata": {},
     "output_type": "execute_result"
    }
   ],
   "source": [
    "# to check the working directory\n",
    "os.getcwd()"
   ]
  },
  {
   "cell_type": "code",
   "execution_count": null,
   "metadata": {},
   "outputs": [],
   "source": [
    "df=pd.read_csv(\"Training.csv\")\n",
    "#print(fileread)\n",
    "print(df.shape)\n",
    "print(df.columns)\n",
    "print(df.corr())"
   ]
  },
  {
   "cell_type": "code",
   "execution_count": 9,
   "metadata": {},
   "outputs": [],
   "source": [
    "import matplotlib.pyplot as plt"
   ]
  },
  {
   "cell_type": "code",
   "execution_count": 11,
   "metadata": {},
   "outputs": [],
   "source": [
    "from sklearn.linear_model import LinearRegression\n",
    "from sklearn.model_selection import train_test_split\n",
    "from sklearn.metrics import mean_squared_error, r2_score\n",
    "from sklearn.preprocessing import OneHotEncoder\n",
    "from sklearn.preprocessing import LabelEncoder"
   ]
  },
  {
   "cell_type": "code",
   "execution_count": 12,
   "metadata": {},
   "outputs": [],
   "source": [
    "#data preprocessing\n",
    "training =pd.read_csv(\"Training.csv\")\n",
    "testing =pd.read_csv(\"Testing.csv\")\n",
    "\n",
    "#data preprocessing"
   ]
  },
  {
   "cell_type": "code",
   "execution_count": null,
   "metadata": {},
   "outputs": [
    {
     "name": "stdout",
     "output_type": "stream",
     "text": [
      "(100000, 55)\n",
      "(30000, 55)\n"
     ]
    }
   ],
   "source": [
    "#replace missing values with mean\n",
    "training.fillna(training.first_valid_index(),inplace=True)\n",
    "testing.fillna(testing.first_valid_index(),inplace=True)\n",
    "\n",
    "#one hot encoding for training data\n",
    "stringcol =training.select_dtypes(include=['object']).columns\n",
    "onehotencodedtraining=pd.get_dummies(training,columns=stringcol)\n",
    "\n",
    "#one hot encoding for testing data\n",
    "stringcol =testing.select_dtypes(include=['object']).columns\n",
    "onehotencodedtesting=pd.get_dummies(testing,columns=stringcol)\n",
    "\n",
    "#correlation coefficient removal\n",
    "correl=onehotencodedtraining.corrwith(onehotencodedtraining['price_doc'])\n",
    "for col in onehotencodedtraining.columns:\n",
    "    if correl[col]<0.1:\n",
    "        onehotencodedtraining.drop(col,axis=1,inplace=True)\n",
    "        onehotencodedtesting.drop(col,axis=1,inplace=True,errors='ignore')\n",
    "\n",
    "x=onehotencodedtraining.drop(columns=['price_doc'])\n",
    "y=onehotencodedtraining['price_doc']\n",
    "\n",
    "print(x.shape)\n",
    "print(onehotencodedtesting.shape)\n"
   ]
  },
  {
   "cell_type": "code",
   "execution_count": 14,
   "metadata": {},
   "outputs": [
    {
     "name": "stdout",
     "output_type": "stream",
     "text": [
      "0.22622128709719647\n",
      "[ 1.68249574e+05  2.93666309e+00  1.97603120e+05 -1.17974162e+02\n",
      " -6.93123353e-03 -5.25549211e+04 -1.89027092e+04  1.00326884e+05\n",
      " -2.03895842e+04  1.21119582e+03  3.85226015e+04 -1.44171936e-05\n",
      "  4.27073028e+03 -4.59786443e-02  7.18584542e+04 -1.00412810e+05\n",
      " -6.15827428e-02 -1.01281332e+07 -1.01268468e+07  2.02549605e+07\n",
      " -4.22987796e-07  6.43689729e+03 -1.91550536e+04  9.75447217e+04\n",
      " -6.13085049e-02 -1.99605615e+06 -1.99337749e+06  3.98907439e+06\n",
      " -5.81390557e+03  9.11146613e+04 -2.21945550e-01  1.97539029e+07\n",
      "  1.97586250e+07 -3.95138833e+07  2.10082187e+04  4.89253759e-01\n",
      " -1.81679054e+07 -1.81651871e+07  3.63331521e+07  5.76113816e+04\n",
      " -1.03417059e+05 -4.61120062e+04 -1.75924290e-01 -1.55426356e+07\n",
      " -1.55595612e+07  3.11060498e+07  4.25170857e+05  5.30538363e+04\n",
      "  3.35663333e+06  5.17767477e+06 -2.39198125e+05  6.94282828e+05\n",
      "  2.60579377e+05 -2.44900394e+05 -2.37956024e+05]\n",
      "2820622.952522741\n"
     ]
    }
   ],
   "source": [
    "#applying regression\n",
    "reg = LinearRegression().fit(x, y)\n",
    "print(reg.score(x, y))\n",
    "print(reg.coef_)\n",
    "print(reg.intercept_)"
   ]
  },
  {
   "cell_type": "code",
   "execution_count": null,
   "metadata": {},
   "outputs": [],
   "source": [
    "\n",
    "print(onehotencodedtesting)   \n",
    "y_pred=reg.predict(onehotencodedtesting)\n",
    "#print(y_pred)\n",
    "\n",
    "#print(\"Mean squared error: %.2f\" % mean_squared_error(y, y_pred))\n",
    "#print(\"Coefficient of determination: %.2f\" % r2_score(y, y_pred))\n",
    "#prediction=pd.DataFrame(y_pred,columns=['price_doc']).to_csv('sample.csv')"
   ]
  },
  {
   "cell_type": "code",
   "execution_count": 16,
   "metadata": {},
   "outputs": [],
   "source": [
    "#submission\n",
    "submission=pd.read_csv(\"sample.csv\")\n",
    "submission['price_doc']=y_pred\n",
    "submission.to_csv(\"sample.csv\",index=False)"
   ]
  }
 ],
 "metadata": {
  "kernelspec": {
   "display_name": "Python 3.10.4 64-bit",
   "language": "python",
   "name": "python3"
  },
  "language_info": {
   "codemirror_mode": {
    "name": "ipython",
    "version": 3
   },
   "file_extension": ".py",
   "mimetype": "text/x-python",
   "name": "python",
   "nbconvert_exporter": "python",
   "pygments_lexer": "ipython3",
   "version": "3.10.4"
  },
  "orig_nbformat": 4,
  "vscode": {
   "interpreter": {
    "hash": "a9cff5a362bc38ef45d817ae74b1af54d6a076e3d773891282bce078b815ba34"
   }
  }
 },
 "nbformat": 4,
 "nbformat_minor": 2
}

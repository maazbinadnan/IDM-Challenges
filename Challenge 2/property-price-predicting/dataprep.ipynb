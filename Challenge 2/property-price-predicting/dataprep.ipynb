{
 "cells": [
  {
   "cell_type": "code",
   "execution_count": 1,
   "metadata": {},
   "outputs": [
    {
     "data": {
      "text/plain": [
       "'c:\\\\Users\\\\HP\\\\Dropbox\\\\maaz iba work\\\\Iba\\\\semester 5\\\\Intro to Data Management\\\\Challenge 2\\\\property-price-predicting'"
      ]
     },
     "execution_count": 1,
     "metadata": {},
     "output_type": "execute_result"
    }
   ],
   "source": [
    "import os\n",
    "import pandas as pd\n",
    "os.getcwd()"
   ]
  },
  {
   "cell_type": "code",
   "execution_count": 2,
   "metadata": {},
   "outputs": [],
   "source": [
    "from sklearn.linear_model import LinearRegression\n",
    "from sklearn.model_selection import train_test_split\n",
    "from sklearn.metrics import mean_squared_error, r2_score"
   ]
  },
  {
   "cell_type": "code",
   "execution_count": 4,
   "metadata": {},
   "outputs": [],
   "source": [
    "#data setting\n",
    "training =pd.read_csv(\"Training.csv\")\n",
    "testing =pd.read_csv(\"Testing.csv\")"
   ]
  },
  {
   "cell_type": "code",
   "execution_count": null,
   "metadata": {},
   "outputs": [],
   "source": [
    "#replace missing values with mean\n",
    "training.fillna(training.first_valid_index(),inplace=True)\n",
    "testing.fillna(testing.first_valid_index(),inplace=True)"
   ]
  },
  {
   "cell_type": "code",
   "execution_count": null,
   "metadata": {},
   "outputs": [],
   "source": [
    "#one hot encoding for training data\n",
    "stringcol =training.select_dtypes(include=['object']).columns\n",
    "onehotencodedtraining=pd.get_dummies(training,columns=stringcol)"
   ]
  },
  {
   "cell_type": "code",
   "execution_count": null,
   "metadata": {},
   "outputs": [],
   "source": [
    "#one hot encoding for testing data\n",
    "stringcol =testing.select_dtypes(include=['object']).columns\n",
    "onehotencodedtesting=pd.get_dummies(testing,columns=stringcol)\n"
   ]
  },
  {
   "cell_type": "code",
   "execution_count": null,
   "metadata": {},
   "outputs": [],
   "source": [
    "#dropping cols not related to y\n",
    "correl=onehotencodedtraining.corrwith(onehotencodedtraining['price_doc'])\n",
    "print(abs(correl))\n",
    "for col in onehotencodedtraining.columns:\n",
    "    if correl[col]<0.04:\n",
    "        onehotencodedtraining.drop(col,axis=1,inplace=True)\n",
    "        onehotencodedtesting.drop(col,axis=1,inplace=True,errors='ignore')\n",
    "print(onehotencodedtesting.shape)\n",
    "print(onehotencodedtraining.shape)"
   ]
  },
  {
   "cell_type": "code",
   "execution_count": null,
   "metadata": {},
   "outputs": [],
   "source": [
    "#using correlation matrix to drop values\n",
    "cor_matrix = onehotencodedtraining.corr().abs()\n",
    "upper_tri = cor_matrix.where(np.triu(np.ones(cor_matrix.shape),k=1).astype(np.bool))\n",
    "#print(upper_tri)\n",
    "to_drop = [column for column in upper_tri.columns if any(upper_tri[column] > 0.4) ]\n",
    "print(to_drop)\n",
    "onehotencodedtraining.drop(to_drop,axis=1,inplace=True)\n",
    "onehotencodedtesting.drop(to_drop,axis=1,inplace=True,errors='ignore')\n",
    "print(onehotencodedtesting.shape)\n",
    "print(onehotencodedtraining.shape)"
   ]
  },
  {
   "cell_type": "code",
   "execution_count": null,
   "metadata": {},
   "outputs": [],
   "source": [
    "#simple column dropping if no one hot\n",
    "training=training.drop(stringcol,axis=1)\n",
    "training=training.drop(['ID'],axis=1)\n",
    "testing=testing.drop(['ID'],axis=1)\n",
    "testing=testing.drop(stringcol,axis=1)"
   ]
  },
  {
   "cell_type": "code",
   "execution_count": null,
   "metadata": {},
   "outputs": [],
   "source": [
    "#setting x and y for training data\n",
    "x=onehotencodedtraining.drop(columns=['price_doc'])\n",
    "y=onehotencodedtraining['price_doc']"
   ]
  },
  {
   "cell_type": "code",
   "execution_count": null,
   "metadata": {},
   "outputs": [],
   "source": [
    "#dropping cols\n",
    "x_training=training.drop(columns=['price_doc'])\n",
    "y_training=training['price_doc']"
   ]
  },
  {
   "cell_type": "code",
   "execution_count": null,
   "metadata": {},
   "outputs": [],
   "source": [
    "#train test split\n",
    "x_train,x_test,y_train,y_test=train_test_split(x,y,test_size=0.3,random_state=0)\n"
   ]
  },
  {
   "cell_type": "code",
   "execution_count": null,
   "metadata": {},
   "outputs": [],
   "source": [
    "#applying regression\n",
    "reg = LinearRegression().fit(x_train, y_train)\n",
    "reg.predict(x_test)\n",
    "reg.score(x_test,y_test)"
   ]
  },
  {
   "cell_type": "markdown",
   "metadata": {},
   "source": [
    "\n"
   ]
  },
  {
   "cell_type": "code",
   "execution_count": null,
   "metadata": {},
   "outputs": [],
   "source": [
    "#submission\n",
    "submission=pd.read_csv(\"sample.csv\")\n",
    "submission['price_doc']=y_pred\n",
    "submission.to_csv(\"sample.csv\",index=False)"
   ]
  }
 ],
 "metadata": {
  "kernelspec": {
   "display_name": "Python 3.10.4 64-bit",
   "language": "python",
   "name": "python3"
  },
  "language_info": {
   "codemirror_mode": {
    "name": "ipython",
    "version": 3
   },
   "file_extension": ".py",
   "mimetype": "text/x-python",
   "name": "python",
   "nbconvert_exporter": "python",
   "pygments_lexer": "ipython3",
   "version": "3.10.4"
  },
  "orig_nbformat": 4,
  "vscode": {
   "interpreter": {
    "hash": "a9cff5a362bc38ef45d817ae74b1af54d6a076e3d773891282bce078b815ba34"
   }
  }
 },
 "nbformat": 4,
 "nbformat_minor": 2
}

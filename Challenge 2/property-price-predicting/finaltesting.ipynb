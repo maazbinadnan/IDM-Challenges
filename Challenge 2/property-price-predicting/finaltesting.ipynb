{
 "cells": [
  {
   "cell_type": "code",
   "execution_count": 1,
   "metadata": {},
   "outputs": [
    {
     "data": {
      "text/plain": [
       "'c:\\\\Users\\\\HP\\\\Dropbox\\\\maaz iba work\\\\Iba\\\\semester 5\\\\Intro to Data Management\\\\Challenge 2\\\\property-price-predicting'"
      ]
     },
     "execution_count": 1,
     "metadata": {},
     "output_type": "execute_result"
    }
   ],
   "source": [
    "import os\n",
    "import pandas as pd\n",
    "import numpy as np\n",
    "os.getcwd()"
   ]
  },
  {
   "cell_type": "code",
   "execution_count": 2,
   "metadata": {},
   "outputs": [],
   "source": [
    "from sklearn.ensemble import HistGradientBoostingRegressor\n",
    "from sklearn.linear_model import LinearRegression\n",
    "from sklearn.ensemble import GradientBoostingRegressor\n",
    "from sklearn.ensemble import RandomForestRegressor\n",
    "from sklearn.ensemble import ExtraTreesRegressor\n",
    "from sklearn.feature_selection import SequentialFeatureSelector\n",
    "from sklearn.model_selection import train_test_split\n",
    "from sklearn.preprocessing import PolynomialFeatures"
   ]
  },
  {
   "cell_type": "code",
   "execution_count": 3,
   "metadata": {},
   "outputs": [],
   "source": [
    "#data setting\n",
    "training =pd.read_csv(\"Training.csv\")\n",
    "testing =pd.read_csv(\"Testing.csv\")"
   ]
  },
  {
   "cell_type": "code",
   "execution_count": 4,
   "metadata": {},
   "outputs": [
    {
     "name": "stderr",
     "output_type": "stream",
     "text": [
      "C:\\Users\\HP\\AppData\\Local\\Temp\\ipykernel_10796\\3174432764.py:2: FutureWarning: Dropping of nuisance columns in DataFrame reductions (with 'numeric_only=None') is deprecated; in a future version this will raise TypeError.  Select only valid columns before calling the reduction.\n",
      "  training.fillna(training.mean(),inplace=True)\n",
      "C:\\Users\\HP\\AppData\\Local\\Temp\\ipykernel_10796\\3174432764.py:3: FutureWarning: Dropping of nuisance columns in DataFrame reductions (with 'numeric_only=None') is deprecated; in a future version this will raise TypeError.  Select only valid columns before calling the reduction.\n",
      "  testing.fillna(testing.mean(),inplace=True)\n"
     ]
    }
   ],
   "source": [
    "#replace missing values with mean\n",
    "training.fillna(training.mean(),inplace=True)\n",
    "testing.fillna(testing.mean(),inplace=True)"
   ]
  },
  {
   "cell_type": "code",
   "execution_count": 5,
   "metadata": {},
   "outputs": [],
   "source": [
    "#one hot encoding for training data\n",
    "stringcol =training.select_dtypes(include=['object']).columns\n",
    "onehotencodedtraining=pd.get_dummies(training,columns=stringcol)"
   ]
  },
  {
   "cell_type": "code",
   "execution_count": 6,
   "metadata": {},
   "outputs": [],
   "source": [
    "#one hot encoding for testing data\n",
    "stringcol =testing.select_dtypes(include=['object']).columns\n",
    "onehotencodedtesting=pd.get_dummies(testing,columns=stringcol)"
   ]
  },
  {
   "cell_type": "code",
   "execution_count": 7,
   "metadata": {},
   "outputs": [
    {
     "name": "stdout",
     "output_type": "stream",
     "text": [
      "(30000, 231)\n",
      "(100000, 232)\n"
     ]
    }
   ],
   "source": [
    "\n",
    "print(onehotencodedtesting.shape)\n",
    "print(onehotencodedtraining.shape)\n"
   ]
  },
  {
   "cell_type": "code",
   "execution_count": 8,
   "metadata": {},
   "outputs": [
    {
     "name": "stdout",
     "output_type": "stream",
     "text": [
      "['indust_part', 'preschool_quota', 'preschool_education_centers_raion', 'school_quota', 'healthcare_centers_raion', 'sport_objects_raion', 'shopping_centers_raion', 'build_count_brick', 'build_count_panel', 'build_count_before_1920', 'build_count_1946-1970', 'build_count_1971-1995', 'metro_min_walk', 'railroad_station_walk_km', 'ID_railroad_station_walk', 'ID_railroad_station_avto', 'big_road2_km', 'ID_railroad_terminal', 'oil_chemistry_km', 'big_market_km', 'office_km', 'catering_km', 'green_part_500', 'prom_part_500', 'trc_count_500', 'sport_count_500', 'green_part_1000', 'trc_count_1000', 'trc_sqm_1000', 'cafe_sum_1000_max_price_avg', 'cafe_avg_price_1000', 'sport_count_1000', 'market_count_1000', 'prom_part_1500', 'office_count_1500', 'trc_count_1500', 'trc_sqm_1500', 'cafe_sum_1500_min_price_avg', 'cafe_sum_1500_max_price_avg', 'cafe_avg_price_1500', 'sport_count_1500', 'market_count_1500', 'green_part_2000', 'trc_sqm_2000', 'cafe_sum_2000_min_price_avg', 'cafe_sum_2000_max_price_avg', 'cafe_avg_price_2000', 'prom_part_3000', 'trc_count_3000', 'trc_sqm_3000', 'cafe_sum_3000_min_price_avg', 'cafe_sum_3000_max_price_avg', 'cafe_avg_price_3000', 'sport_count_3000', 'market_count_3000', 'green_part_5000', 'prom_part_5000', 'trc_sqm_5000', 'cafe_sum_5000_min_price_avg', 'cafe_sum_5000_max_price_avg', 'cafe_avg_price_5000', 'mosque_count_5000', 'market_count_5000', 'product_type_Investment', 'product_type_OwnerOccupier', 'sub_area_Molzhaninovskoe', 'sub_area_Novogireevo', 'sub_area_Poselenie Desjonovskoe', 'sub_area_Poselenie Marushkinskoe', 'sub_area_Poselenie Voronovskoe', 'sub_area_Ramenki', 'sub_area_Severnoe Izmajlovo', 'sub_area_Severnoe Medvedkovo', 'sub_area_Strogino', 'sub_area_Taganskoe', 'sub_area_Vyhino-Zhulebino', 'culture_objects_top_25_no', 'culture_objects_top_25_yes', 'thermal_power_plant_raion_yes', 'incineration_raion_no', 'incineration_raion_yes', 'oil_chemistry_raion_no', 'oil_chemistry_raion_yes', 'radiation_raion_no', 'radiation_raion_yes', 'railroad_terminal_raion_no', 'railroad_terminal_raion_yes', 'big_market_raion_yes', 'nuclear_reactor_raion_no', 'nuclear_reactor_raion_yes', 'detention_facility_raion_yes', 'water_1line_yes', 'big_road1_1line_yes', 'railroad_1line_yes', 'ecology_excellent', 'ecology_no data', 'ecology_poor']\n",
      "(30000, 134)\n",
      "(100000, 135)\n"
     ]
    },
    {
     "name": "stderr",
     "output_type": "stream",
     "text": [
      "C:\\Users\\HP\\AppData\\Local\\Temp\\ipykernel_10796\\4203410449.py:3: DeprecationWarning: `np.bool` is a deprecated alias for the builtin `bool`. To silence this warning, use `bool` by itself. Doing this will not modify any behavior and is safe. If you specifically wanted the numpy scalar type, use `np.bool_` here.\n",
      "Deprecated in NumPy 1.20; for more details and guidance: https://numpy.org/devdocs/release/1.20.0-notes.html#deprecations\n",
      "  upper_tri = cor_matrix.where(np.triu(np.ones(cor_matrix.shape),k=1).astype(np.bool))\n"
     ]
    }
   ],
   "source": [
    "#using correlation matrix to drop values\n",
    "cor_matrix = onehotencodedtraining.corr().abs()\n",
    "upper_tri = cor_matrix.where(np.triu(np.ones(cor_matrix.shape),k=1).astype(np.bool))\n",
    "#print(upper_tri)\n",
    "to_drop = [column for column in upper_tri.columns if any(upper_tri[column] > 0.4) ]\n",
    "print(to_drop)\n",
    "onehotencodedtraining.drop(to_drop,axis=1,inplace=True)\n",
    "onehotencodedtesting.drop(to_drop,axis=1,inplace=True,errors='ignore')\n",
    "print(onehotencodedtesting.shape)\n",
    "print(onehotencodedtraining.shape)"
   ]
  },
  {
   "cell_type": "code",
   "execution_count": 9,
   "metadata": {},
   "outputs": [
    {
     "name": "stdout",
     "output_type": "stream",
     "text": [
      "(100000, 134)\n",
      "(100000,)\n"
     ]
    }
   ],
   "source": [
    "#setting x and y\n",
    "x=onehotencodedtraining.drop(columns=['price_doc'])\n",
    "y=onehotencodedtraining['price_doc']\n",
    "print(x.shape)\n",
    "print(y.shape)\n",
    "#forwardreg=SequentialFeatureSelector(LinearRegression(),direction='forward',n_features_to_select=10)\n",
    "#forwardreg.fit(x,y)"
   ]
  },
  {
   "cell_type": "code",
   "execution_count": null,
   "metadata": {},
   "outputs": [],
   "source": [
    "x_training=x[forwardreg.get_feature_names_out()]\n",
    "x_testing=onehotencodedtesting[forwardreg.get_feature_names_out()]\n",
    "print(x_training.shape)\n",
    "print(x_testing.shape)"
   ]
  },
  {
   "cell_type": "code",
   "execution_count": 16,
   "metadata": {},
   "outputs": [],
   "source": [
    "x_train,x_test,y_train,y_test=train_test_split(x,y,test_size=0.3,random_state=42)"
   ]
  },
  {
   "cell_type": "code",
   "execution_count": 11,
   "metadata": {},
   "outputs": [
    {
     "name": "stderr",
     "output_type": "stream",
     "text": [
      "[Parallel(n_jobs=1)]: Using backend SequentialBackend with 1 concurrent workers.\n"
     ]
    },
    {
     "name": "stdout",
     "output_type": "stream",
     "text": [
      "building tree 1 of 100\n"
     ]
    },
    {
     "name": "stderr",
     "output_type": "stream",
     "text": [
      "[Parallel(n_jobs=1)]: Done   1 out of   1 | elapsed:    0.7s remaining:    0.0s\n"
     ]
    },
    {
     "name": "stdout",
     "output_type": "stream",
     "text": [
      "building tree 2 of 100\n",
      "building tree 3 of 100\n",
      "building tree 4 of 100\n",
      "building tree 5 of 100\n",
      "building tree 6 of 100\n",
      "building tree 7 of 100\n",
      "building tree 8 of 100\n",
      "building tree 9 of 100\n",
      "building tree 10 of 100\n",
      "building tree 11 of 100\n",
      "building tree 12 of 100\n",
      "building tree 13 of 100\n",
      "building tree 14 of 100\n",
      "building tree 15 of 100\n",
      "building tree 16 of 100\n",
      "building tree 17 of 100\n",
      "building tree 18 of 100\n",
      "building tree 19 of 100\n",
      "building tree 20 of 100\n",
      "building tree 21 of 100\n",
      "building tree 22 of 100\n",
      "building tree 23 of 100\n",
      "building tree 24 of 100\n",
      "building tree 25 of 100\n",
      "building tree 26 of 100\n",
      "building tree 27 of 100\n",
      "building tree 28 of 100\n",
      "building tree 29 of 100\n",
      "building tree 30 of 100\n",
      "building tree 31 of 100\n",
      "building tree 32 of 100\n",
      "building tree 33 of 100\n",
      "building tree 34 of 100\n",
      "building tree 35 of 100\n",
      "building tree 36 of 100\n",
      "building tree 37 of 100\n",
      "building tree 38 of 100\n",
      "building tree 39 of 100\n",
      "building tree 40 of 100\n",
      "building tree 41 of 100\n",
      "building tree 42 of 100\n",
      "building tree 43 of 100\n",
      "building tree 44 of 100\n",
      "building tree 45 of 100\n",
      "building tree 46 of 100\n",
      "building tree 47 of 100\n",
      "building tree 48 of 100\n",
      "building tree 49 of 100\n",
      "building tree 50 of 100\n",
      "building tree 51 of 100\n",
      "building tree 52 of 100\n",
      "building tree 53 of 100\n",
      "building tree 54 of 100\n",
      "building tree 55 of 100\n",
      "building tree 56 of 100\n",
      "building tree 57 of 100\n",
      "building tree 58 of 100\n",
      "building tree 59 of 100\n",
      "building tree 60 of 100\n",
      "building tree 61 of 100\n",
      "building tree 62 of 100\n",
      "building tree 63 of 100\n",
      "building tree 64 of 100\n",
      "building tree 65 of 100\n",
      "building tree 66 of 100\n",
      "building tree 67 of 100\n",
      "building tree 68 of 100\n",
      "building tree 69 of 100\n",
      "building tree 70 of 100\n",
      "building tree 71 of 100\n",
      "building tree 72 of 100\n",
      "building tree 73 of 100\n",
      "building tree 74 of 100\n",
      "building tree 75 of 100\n",
      "building tree 76 of 100\n",
      "building tree 77 of 100\n",
      "building tree 78 of 100\n",
      "building tree 79 of 100\n",
      "building tree 80 of 100\n",
      "building tree 81 of 100\n",
      "building tree 82 of 100\n",
      "building tree 83 of 100\n",
      "building tree 84 of 100\n",
      "building tree 85 of 100\n",
      "building tree 86 of 100\n",
      "building tree 87 of 100\n",
      "building tree 88 of 100\n",
      "building tree 89 of 100\n",
      "building tree 90 of 100\n",
      "building tree 91 of 100\n",
      "building tree 92 of 100\n",
      "building tree 93 of 100\n",
      "building tree 94 of 100\n",
      "building tree 95 of 100\n",
      "building tree 96 of 100\n",
      "building tree 97 of 100\n",
      "building tree 98 of 100\n",
      "building tree 99 of 100\n",
      "building tree 100 of 100\n"
     ]
    },
    {
     "name": "stderr",
     "output_type": "stream",
     "text": [
      "[Parallel(n_jobs=1)]: Done 100 out of 100 | elapsed:  1.3min finished\n",
      "[Parallel(n_jobs=1)]: Using backend SequentialBackend with 1 concurrent workers.\n",
      "[Parallel(n_jobs=1)]: Done   1 out of   1 | elapsed:    0.0s remaining:    0.0s\n",
      "[Parallel(n_jobs=1)]: Done 100 out of 100 | elapsed:    1.7s finished\n",
      "[Parallel(n_jobs=1)]: Using backend SequentialBackend with 1 concurrent workers.\n",
      "[Parallel(n_jobs=1)]: Done   1 out of   1 | elapsed:    0.0s remaining:    0.0s\n"
     ]
    },
    {
     "name": "stdout",
     "output_type": "stream",
     "text": [
      "0.9999999575614601\n",
      "[ 6026118.81977     6810722.325046   15389455.45206999 ...\n",
      "  4545278.83338     1448734.22004     1650090.6461    ]\n"
     ]
    },
    {
     "name": "stderr",
     "output_type": "stream",
     "text": [
      "[Parallel(n_jobs=1)]: Done 100 out of 100 | elapsed:    0.7s finished\n"
     ]
    }
   ],
   "source": [
    "extretree = ExtraTreesRegressor(n_estimators=100,random_state=42,verbose=2,max_features=60).fit(x,y)\n",
    "print(extretree.score(x_test,y_test))\n",
    "\n",
    "y_pred=extretree.predict(onehotencodedtesting)\n",
    "print( y_pred)\n"
   ]
  },
  {
   "cell_type": "code",
   "execution_count": 13,
   "metadata": {},
   "outputs": [],
   "source": [
    "regressor = RandomForestRegressor(max_depth=25,max_features=20,n_estimators=300, random_state=25)\n",
    "regressor.fit(x,y)\n",
    "y_pred=regressor.predict(onehotencodedtesting)"
   ]
  },
  {
   "cell_type": "code",
   "execution_count": 17,
   "metadata": {},
   "outputs": [
    {
     "ename": "NameError",
     "evalue": "name 'x_testing' is not defined",
     "output_type": "error",
     "traceback": [
      "\u001b[1;31m---------------------------------------------------------------------------\u001b[0m",
      "\u001b[1;31mNameError\u001b[0m                                 Traceback (most recent call last)",
      "Cell \u001b[1;32mIn [17], line 8\u001b[0m\n\u001b[0;32m      1\u001b[0m \u001b[39m#x_train,x_test,y_train,y_test=train_test_split(x_training,y,test_size=0.3,random_state=42)\u001b[39;00m\n\u001b[0;32m      2\u001b[0m \u001b[39m#gradreg=HistGradientBoostingRegressor(learning_rate=0.1,max_depth=40,random_state=42).fit(x_train,y_train)\u001b[39;00m\n\u001b[0;32m      3\u001b[0m \u001b[39m#print(gradreg.score(x_test,y_test))\u001b[39;00m\n\u001b[0;32m      4\u001b[0m \u001b[39m#y_pred2=gradreg.predict(x_test)\u001b[39;00m\n\u001b[0;32m      5\u001b[0m \u001b[39m#print(y_pred2)\u001b[39;00m\n\u001b[0;32m      7\u001b[0m gradreg2\u001b[39m=\u001b[39mHistGradientBoostingRegressor(learning_rate\u001b[39m=\u001b[39m\u001b[39m0.1\u001b[39m,max_depth\u001b[39m=\u001b[39m\u001b[39m40\u001b[39m,random_state\u001b[39m=\u001b[39m\u001b[39m42\u001b[39m)\u001b[39m.\u001b[39mfit(x,y)\n\u001b[1;32m----> 8\u001b[0m y_pred\u001b[39m=\u001b[39mgradreg2\u001b[39m.\u001b[39mpredict(x_testing)\n\u001b[0;32m      9\u001b[0m \u001b[39mprint\u001b[39m(y_pred)\n\u001b[0;32m     11\u001b[0m \u001b[39m#print(gradreg.score(x_test,y_test))\u001b[39;00m\n\u001b[0;32m     12\u001b[0m \u001b[39m#decisiontree\u001b[39;00m\n\u001b[0;32m     13\u001b[0m \u001b[39m#treereg = DecisionTreeRegressor(max_depth=50,max_features=30, random_state=25)\u001b[39;00m\n\u001b[0;32m     14\u001b[0m \u001b[39m#treereg.fit(x,y)\u001b[39;00m\n",
      "\u001b[1;31mNameError\u001b[0m: name 'x_testing' is not defined"
     ]
    }
   ],
   "source": [
    "#x_train,x_test,y_train,y_test=train_test_split(x_training,y,test_size=0.3,random_state=42)\n",
    "#gradreg=HistGradientBoostingRegressor(learning_rate=0.1,max_depth=40,random_state=42).fit(x_train,y_train)\n",
    "#print(gradreg.score(x_test,y_test))\n",
    "#y_pred2=gradreg.predict(x_test)\n",
    "#print(y_pred2)\n",
    "\n",
    "gradreg2=HistGradientBoostingRegressor(learning_rate=0.1,max_depth=40,random_state=42).fit(x,y)\n",
    "y_pred=gradreg2.predict(onehotencodedtesting)))\n",
    "print(y_pred)\n",
    "\n",
    "#print(gradreg.score(x_test,y_test))\n",
    "#decisiontree\n",
    "#treereg = DecisionTreeRegressor(max_depth=50,max_features=30, random_state=25)\n",
    "#treereg.fit(x,y)\n"
   ]
  },
  {
   "cell_type": "code",
   "execution_count": null,
   "metadata": {},
   "outputs": [],
   "source": []
  },
  {
   "cell_type": "code",
   "execution_count": 49,
   "metadata": {},
   "outputs": [],
   "source": [
    "\n",
    "#y_pred = treereg.predict(onehotencodedtesting)\n"
   ]
  },
  {
   "cell_type": "code",
   "execution_count": 14,
   "metadata": {},
   "outputs": [],
   "source": [
    "submission=pd.read_csv(\"sample.csv\")\n",
    "submission['price_doc']=y_pred\n",
    "submission.to_csv(\"sample.csv\",index=False)"
   ]
  }
 ],
 "metadata": {
  "kernelspec": {
   "display_name": "Python 3.10.4 64-bit",
   "language": "python",
   "name": "python3"
  },
  "language_info": {
   "codemirror_mode": {
    "name": "ipython",
    "version": 3
   },
   "file_extension": ".py",
   "mimetype": "text/x-python",
   "name": "python",
   "nbconvert_exporter": "python",
   "pygments_lexer": "ipython3",
   "version": "3.10.4"
  },
  "orig_nbformat": 4,
  "vscode": {
   "interpreter": {
    "hash": "a9cff5a362bc38ef45d817ae74b1af54d6a076e3d773891282bce078b815ba34"
   }
  }
 },
 "nbformat": 4,
 "nbformat_minor": 2
}

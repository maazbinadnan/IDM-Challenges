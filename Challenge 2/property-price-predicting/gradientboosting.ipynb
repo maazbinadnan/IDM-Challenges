{
 "cells": [
  {
   "cell_type": "code",
   "execution_count": 2,
   "metadata": {},
   "outputs": [
    {
     "data": {
      "text/plain": [
       "'c:\\\\Users\\\\HP\\\\Dropbox\\\\maaz iba work\\\\Iba\\\\semester 5\\\\Intro to Data Management\\\\Challenge 2\\\\property-price-predicting'"
      ]
     },
     "execution_count": 2,
     "metadata": {},
     "output_type": "execute_result"
    }
   ],
   "source": [
    "import os\n",
    "import pandas as pd\n",
    "import numpy as np\n",
    "os.getcwd()"
   ]
  },
  {
   "cell_type": "code",
   "execution_count": 3,
   "metadata": {},
   "outputs": [],
   "source": [
    "from sklearn.ensemble import HistGradientBoostingRegressor\n",
    "from sklearn.ensemble import GradientBoostingRegressor\n",
    "from sklearn.model_selection import train_test_split"
   ]
  },
  {
   "cell_type": "code",
   "execution_count": 4,
   "metadata": {},
   "outputs": [],
   "source": [
    "#data setting\n",
    "training =pd.read_csv(\"Training.csv\")\n",
    "testing =pd.read_csv(\"Testing.csv\")"
   ]
  },
  {
   "cell_type": "code",
   "execution_count": 15,
   "metadata": {},
   "outputs": [
    {
     "name": "stderr",
     "output_type": "stream",
     "text": [
      "C:\\Users\\HP\\AppData\\Local\\Temp\\ipykernel_6620\\3174432764.py:2: FutureWarning: Dropping of nuisance columns in DataFrame reductions (with 'numeric_only=None') is deprecated; in a future version this will raise TypeError.  Select only valid columns before calling the reduction.\n",
      "  training.fillna(training.mean(),inplace=True)\n",
      "C:\\Users\\HP\\AppData\\Local\\Temp\\ipykernel_6620\\3174432764.py:3: FutureWarning: Dropping of nuisance columns in DataFrame reductions (with 'numeric_only=None') is deprecated; in a future version this will raise TypeError.  Select only valid columns before calling the reduction.\n",
      "  testing.fillna(testing.mean(),inplace=True)\n"
     ]
    }
   ],
   "source": [
    "#replace missing values with mean\n",
    "training.fillna(training.mean(),inplace=True)\n",
    "testing.fillna(testing.mean(),inplace=True)"
   ]
  },
  {
   "cell_type": "code",
   "execution_count": 16,
   "metadata": {},
   "outputs": [],
   "source": [
    "#one hot encoding for training data\n",
    "stringcol =training.select_dtypes(include=['object']).columns\n",
    "onehotencodedtraining=pd.get_dummies(training,columns=stringcol)"
   ]
  },
  {
   "cell_type": "code",
   "execution_count": 17,
   "metadata": {},
   "outputs": [],
   "source": [
    "#one hot encoding for testing data\n",
    "stringcol =testing.select_dtypes(include=['object']).columns\n",
    "onehotencodedtesting=pd.get_dummies(testing,columns=stringcol)"
   ]
  },
  {
   "cell_type": "code",
   "execution_count": 18,
   "metadata": {},
   "outputs": [
    {
     "name": "stdout",
     "output_type": "stream",
     "text": [
      "(30000, 231)\n",
      "(100000, 232)\n",
      "ID                      0.085433\n",
      "floor                   0.184806\n",
      "raion_popul             0.157995\n",
      "green_zone_part         0.014515\n",
      "indust_part             0.082620\n",
      "                          ...   \n",
      "ecology_excellent       0.037278\n",
      "ecology_good            0.001036\n",
      "ecology_no data         0.241627\n",
      "ecology_poor            0.117835\n",
      "ecology_satisfactory    0.064450\n",
      "Length: 232, dtype: float64\n",
      "(30000, 231)\n",
      "(100000, 232)\n"
     ]
    }
   ],
   "source": [
    "#correlation check\n",
    "print(onehotencodedtesting.shape)\n",
    "print(onehotencodedtraining.shape)\n",
    "correl=onehotencodedtraining.corrwith(onehotencodedtraining['price_doc'])\n",
    "print(abs(correl))\n",
    "#for col in onehotencodedtraining.columns:\n",
    " #   if correl[col]<0.04:\n",
    "        #onehotencodedtraining.drop(col,axis=1,inplace=True)\n",
    "        #onehotencodedtesting.drop(col,axis=1,inplace=True,errors='ignore')\n",
    "print(onehotencodedtesting.shape)\n",
    "print(onehotencodedtraining.shape)\n"
   ]
  },
  {
   "cell_type": "code",
   "execution_count": 9,
   "metadata": {},
   "outputs": [
    {
     "name": "stdout",
     "output_type": "stream",
     "text": [
      "['indust_part', 'preschool_quota', 'preschool_education_centers_raion', 'school_quota', 'healthcare_centers_raion', 'sport_objects_raion', 'shopping_centers_raion', 'build_count_brick', 'build_count_panel', 'build_count_before_1920', 'build_count_1946-1970', 'build_count_1971-1995', 'metro_min_walk', 'railroad_station_walk_km', 'ID_railroad_station_walk', 'ID_railroad_station_avto', 'big_road2_km', 'ID_railroad_terminal', 'oil_chemistry_km', 'big_market_km', 'office_km', 'catering_km', 'green_part_500', 'prom_part_500', 'trc_count_500', 'sport_count_500', 'green_part_1000', 'trc_count_1000', 'trc_sqm_1000', 'cafe_sum_1000_max_price_avg', 'cafe_avg_price_1000', 'sport_count_1000', 'market_count_1000', 'prom_part_1500', 'office_count_1500', 'trc_count_1500', 'trc_sqm_1500', 'cafe_sum_1500_min_price_avg', 'cafe_sum_1500_max_price_avg', 'cafe_avg_price_1500', 'sport_count_1500', 'market_count_1500', 'green_part_2000', 'trc_sqm_2000', 'cafe_sum_2000_min_price_avg', 'cafe_sum_2000_max_price_avg', 'cafe_avg_price_2000', 'prom_part_3000', 'trc_count_3000', 'trc_sqm_3000', 'cafe_sum_3000_min_price_avg', 'cafe_sum_3000_max_price_avg', 'cafe_avg_price_3000', 'sport_count_3000', 'market_count_3000', 'green_part_5000', 'prom_part_5000', 'trc_sqm_5000', 'cafe_sum_5000_min_price_avg', 'cafe_sum_5000_max_price_avg', 'cafe_avg_price_5000', 'mosque_count_5000', 'market_count_5000', 'product_type_Investment', 'product_type_OwnerOccupier', 'sub_area_Molzhaninovskoe', 'sub_area_Novogireevo', 'sub_area_Poselenie Desjonovskoe', 'sub_area_Poselenie Marushkinskoe', 'sub_area_Poselenie Voronovskoe', 'sub_area_Ramenki', 'sub_area_Severnoe Izmajlovo', 'sub_area_Severnoe Medvedkovo', 'sub_area_Strogino', 'sub_area_Taganskoe', 'sub_area_Vyhino-Zhulebino', 'culture_objects_top_25_no', 'culture_objects_top_25_yes', 'thermal_power_plant_raion_yes', 'incineration_raion_no', 'incineration_raion_yes', 'oil_chemistry_raion_no', 'oil_chemistry_raion_yes', 'radiation_raion_no', 'radiation_raion_yes', 'railroad_terminal_raion_no', 'railroad_terminal_raion_yes', 'big_market_raion_yes', 'nuclear_reactor_raion_no', 'nuclear_reactor_raion_yes', 'detention_facility_raion_yes', 'water_1line_yes', 'big_road1_1line_yes', 'railroad_1line_yes', 'ecology_excellent', 'ecology_no data', 'ecology_poor']\n",
      "(30000, 134)\n",
      "(100000, 135)\n"
     ]
    },
    {
     "name": "stderr",
     "output_type": "stream",
     "text": [
      "C:\\Users\\HP\\AppData\\Local\\Temp\\ipykernel_6620\\4203410449.py:3: DeprecationWarning: `np.bool` is a deprecated alias for the builtin `bool`. To silence this warning, use `bool` by itself. Doing this will not modify any behavior and is safe. If you specifically wanted the numpy scalar type, use `np.bool_` here.\n",
      "Deprecated in NumPy 1.20; for more details and guidance: https://numpy.org/devdocs/release/1.20.0-notes.html#deprecations\n",
      "  upper_tri = cor_matrix.where(np.triu(np.ones(cor_matrix.shape),k=1).astype(np.bool))\n"
     ]
    }
   ],
   "source": [
    "#using correlation matrix to drop values\n",
    "cor_matrix = onehotencodedtraining.corr().abs()\n",
    "upper_tri = cor_matrix.where(np.triu(np.ones(cor_matrix.shape),k=1).astype(np.bool))\n",
    "#print(upper_tri)\n",
    "to_drop = [column for column in upper_tri.columns if any(upper_tri[column] > 0.4) ]\n",
    "print(to_drop)\n",
    "onehotencodedtraining.drop(to_drop,axis=1,inplace=True)\n",
    "onehotencodedtesting.drop(to_drop,axis=1,inplace=True,errors='ignore')\n",
    "print(onehotencodedtesting.shape)\n",
    "print(onehotencodedtraining.shape)"
   ]
  },
  {
   "cell_type": "code",
   "execution_count": null,
   "metadata": {},
   "outputs": [],
   "source": [
    "#DROPPING CATEGORIAL VALS IF NO ONE HOT ENCODING\n",
    "training=training.drop(stringcol,axis=1)\n",
    "training=training.drop(['ID'],axis=1)\n",
    "testing=testing.drop(['ID'],axis=1)\n",
    "testing=testing.drop(stringcol,axis=1)"
   ]
  },
  {
   "cell_type": "code",
   "execution_count": 52,
   "metadata": {},
   "outputs": [],
   "source": [
    "#category drop vals\n",
    "x_training=training.drop(columns=['price_doc'])\n",
    "y_training=training['price_doc']"
   ]
  },
  {
   "cell_type": "code",
   "execution_count": 19,
   "metadata": {},
   "outputs": [
    {
     "name": "stdout",
     "output_type": "stream",
     "text": [
      "(100000, 231)\n",
      "(100000,)\n"
     ]
    }
   ],
   "source": [
    "#setting x and y for training data\n",
    "x=onehotencodedtraining.drop(columns=['price_doc'])\n",
    "y=onehotencodedtraining['price_doc']\n",
    "print(x.shape)\n",
    "print(y.shape)"
   ]
  },
  {
   "cell_type": "code",
   "execution_count": 21,
   "metadata": {},
   "outputs": [
    {
     "name": "stdout",
     "output_type": "stream",
     "text": [
      "0.5211638061121076\n",
      "[ 8139484.05970089  5093917.07635501  6470072.62940634 ...\n",
      "  5583023.48418064 22385743.75770847  5593581.46630881]\n"
     ]
    }
   ],
   "source": [
    "x_train,x_test,y_train,y_test=train_test_split(x,y,test_size=0.3,random_state=42)\n",
    "gradreg=HistGradientBoostingRegressor(learning_rate=0.1,max_depth=40,random_state=42).fit(x_train,y_train)\n",
    "print(gradreg.score(x_test,y_test))\n",
    "y_pred2=gradreg.predict(x_test)\n",
    "print(y_pred2)\n",
    "\n",
    "gradreg2=HistGradientBoostingRegressor(learning_rate=0.1,max_depth=40,random_state=42).fit(x,y)\n",
    "y_pred=gradreg.predict(onehotencodedtesting)\n",
    "print(y_pred)\n",
    "\n",
    "#print(gradreg.score(x_test,y_test))\n",
    "#decisiontree\n",
    "#treereg = DecisionTreeRegressor(max_depth=50,max_features=30, random_state=25)\n",
    "#treereg.fit(x,y)\n"
   ]
  },
  {
   "cell_type": "code",
   "execution_count": null,
   "metadata": {},
   "outputs": [],
   "source": []
  },
  {
   "cell_type": "code",
   "execution_count": 49,
   "metadata": {},
   "outputs": [],
   "source": [
    "\n",
    "#y_pred = treereg.predict(onehotencodedtesting)\n"
   ]
  },
  {
   "cell_type": "code",
   "execution_count": 22,
   "metadata": {},
   "outputs": [],
   "source": [
    "submission=pd.read_csv(\"sample.csv\")\n",
    "submission['price_doc']=y_pred\n",
    "submission.to_csv(\"sample.csv\",index=False)"
   ]
  }
 ],
 "metadata": {
  "kernelspec": {
   "display_name": "Python 3.10.4 64-bit",
   "language": "python",
   "name": "python3"
  },
  "language_info": {
   "codemirror_mode": {
    "name": "ipython",
    "version": 3
   },
   "file_extension": ".py",
   "mimetype": "text/x-python",
   "name": "python",
   "nbconvert_exporter": "python",
   "pygments_lexer": "ipython3",
   "version": "3.10.4"
  },
  "orig_nbformat": 4,
  "vscode": {
   "interpreter": {
    "hash": "a9cff5a362bc38ef45d817ae74b1af54d6a076e3d773891282bce078b815ba34"
   }
  }
 },
 "nbformat": 4,
 "nbformat_minor": 2
}

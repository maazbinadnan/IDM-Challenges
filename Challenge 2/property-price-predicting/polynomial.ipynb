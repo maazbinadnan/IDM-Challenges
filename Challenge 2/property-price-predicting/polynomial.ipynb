{
 "cells": [
  {
   "cell_type": "code",
   "execution_count": 1,
   "metadata": {},
   "outputs": [
    {
     "data": {
      "text/plain": [
       "'c:\\\\Users\\\\HP\\\\Dropbox\\\\maaz iba work\\\\Iba\\\\semester 5\\\\Intro to Data Management\\\\Challenge 2\\\\property-price-predicting'"
      ]
     },
     "execution_count": 1,
     "metadata": {},
     "output_type": "execute_result"
    }
   ],
   "source": [
    "import os\n",
    "import pandas as pd\n",
    "import numpy as np\n",
    "os.getcwd()"
   ]
  },
  {
   "cell_type": "code",
   "execution_count": 2,
   "metadata": {},
   "outputs": [],
   "source": [
    "from sklearn.ensemble import HistGradientBoostingRegressor\n",
    "from sklearn.ensemble import GradientBoostingRegressor\n",
    "from sklearn.model_selection import train_test_split\n",
    "from sklearn.preprocessing import PolynomialFeatures"
   ]
  },
  {
   "cell_type": "code",
   "execution_count": 3,
   "metadata": {},
   "outputs": [],
   "source": [
    "#data setting\n",
    "training =pd.read_csv(\"Training.csv\")\n",
    "testing =pd.read_csv(\"Testing.csv\")"
   ]
  },
  {
   "cell_type": "code",
   "execution_count": 4,
   "metadata": {},
   "outputs": [
    {
     "name": "stderr",
     "output_type": "stream",
     "text": [
      "C:\\Users\\HP\\AppData\\Local\\Temp\\ipykernel_24676\\3174432764.py:2: FutureWarning: Dropping of nuisance columns in DataFrame reductions (with 'numeric_only=None') is deprecated; in a future version this will raise TypeError.  Select only valid columns before calling the reduction.\n",
      "  training.fillna(training.mean(),inplace=True)\n",
      "C:\\Users\\HP\\AppData\\Local\\Temp\\ipykernel_24676\\3174432764.py:3: FutureWarning: Dropping of nuisance columns in DataFrame reductions (with 'numeric_only=None') is deprecated; in a future version this will raise TypeError.  Select only valid columns before calling the reduction.\n",
      "  testing.fillna(testing.mean(),inplace=True)\n"
     ]
    }
   ],
   "source": [
    "#replace missing values with mean\n",
    "training.fillna(training.mean(),inplace=True)\n",
    "testing.fillna(testing.mean(),inplace=True)"
   ]
  },
  {
   "cell_type": "code",
   "execution_count": 12,
   "metadata": {},
   "outputs": [],
   "source": [
    "#one hot encoding for training data\n",
    "stringcol =training.select_dtypes(include=['object']).columns\n",
    "onehotencodedtraining=pd.get_dummies(training,columns=stringcol)"
   ]
  },
  {
   "cell_type": "code",
   "execution_count": 13,
   "metadata": {},
   "outputs": [],
   "source": [
    "#one hot encoding for testing data\n",
    "stringcol =testing.select_dtypes(include=['object']).columns\n",
    "onehotencodedtesting=pd.get_dummies(testing,columns=stringcol)"
   ]
  },
  {
   "cell_type": "code",
   "execution_count": 17,
   "metadata": {},
   "outputs": [
    {
     "name": "stdout",
     "output_type": "stream",
     "text": [
      "(30000, 231)\n",
      "(100000, 232)\n",
      "ID                      0.085433\n",
      "floor                   0.184806\n",
      "raion_popul             0.157995\n",
      "green_zone_part         0.014515\n",
      "indust_part             0.082620\n",
      "                          ...   \n",
      "ecology_excellent       0.037278\n",
      "ecology_good            0.001036\n",
      "ecology_no data         0.241627\n",
      "ecology_poor            0.117835\n",
      "ecology_satisfactory    0.064450\n",
      "Length: 232, dtype: float64\n",
      "(30000, 87)\n",
      "(100000, 88)\n"
     ]
    }
   ],
   "source": [
    "#correlation check\n",
    "print(onehotencodedtesting.shape)\n",
    "print(onehotencodedtraining.shape)\n",
    "correl=onehotencodedtraining.corrwith(onehotencodedtraining['price_doc'])\n",
    "print(abs(correl))\n",
    "for col in onehotencodedtraining.columns:\n",
    "    if correl[col]<0.04:\n",
    "        onehotencodedtraining.drop(col,axis=1,inplace=True)\n",
    "        onehotencodedtesting.drop(col,axis=1,inplace=True,errors='ignore')\n",
    "print(onehotencodedtesting.shape)\n",
    "print(onehotencodedtraining.shape)\n"
   ]
  },
  {
   "cell_type": "code",
   "execution_count": 18,
   "metadata": {},
   "outputs": [
    {
     "name": "stdout",
     "output_type": "stream",
     "text": [
      "['preschool_education_centers_raion', 'school_quota', 'healthcare_centers_raion', 'sport_objects_raion', 'shopping_centers_raion', 'build_count_brick', 'ID_railroad_terminal', 'trc_count_500', 'sport_count_500', 'trc_count_1000', 'trc_sqm_1000', 'cafe_sum_1000_max_price_avg', 'cafe_avg_price_1000', 'sport_count_1000', 'market_count_1000', 'office_count_1500', 'trc_count_1500', 'trc_sqm_1500', 'cafe_sum_1500_min_price_avg', 'cafe_sum_1500_max_price_avg', 'cafe_avg_price_1500', 'sport_count_1500', 'market_count_1500', 'trc_sqm_2000', 'cafe_sum_2000_min_price_avg', 'cafe_sum_2000_max_price_avg', 'cafe_avg_price_2000', 'trc_count_3000', 'trc_sqm_3000', 'cafe_sum_3000_min_price_avg', 'cafe_sum_3000_max_price_avg', 'cafe_avg_price_3000', 'sport_count_3000', 'market_count_3000', 'prom_part_5000', 'trc_sqm_5000', 'cafe_sum_5000_min_price_avg', 'cafe_sum_5000_max_price_avg', 'cafe_avg_price_5000', 'mosque_count_5000', 'market_count_5000', 'sub_area_Ramenki', 'culture_objects_top_25_yes', 'radiation_raion_yes', 'railroad_terminal_raion_yes', 'ecology_poor']\n",
      "(30000, 41)\n",
      "(100000, 42)\n"
     ]
    },
    {
     "name": "stderr",
     "output_type": "stream",
     "text": [
      "C:\\Users\\HP\\AppData\\Local\\Temp\\ipykernel_24676\\4203410449.py:3: DeprecationWarning: `np.bool` is a deprecated alias for the builtin `bool`. To silence this warning, use `bool` by itself. Doing this will not modify any behavior and is safe. If you specifically wanted the numpy scalar type, use `np.bool_` here.\n",
      "Deprecated in NumPy 1.20; for more details and guidance: https://numpy.org/devdocs/release/1.20.0-notes.html#deprecations\n",
      "  upper_tri = cor_matrix.where(np.triu(np.ones(cor_matrix.shape),k=1).astype(np.bool))\n"
     ]
    }
   ],
   "source": [
    "#using correlation matrix to drop values\n",
    "cor_matrix = onehotencodedtraining.corr().abs()\n",
    "upper_tri = cor_matrix.where(np.triu(np.ones(cor_matrix.shape),k=1).astype(np.bool))\n",
    "#print(upper_tri)\n",
    "to_drop = [column for column in upper_tri.columns if any(upper_tri[column] > 0.4) ]\n",
    "print(to_drop)\n",
    "onehotencodedtraining.drop(to_drop,axis=1,inplace=True)\n",
    "onehotencodedtesting.drop(to_drop,axis=1,inplace=True,errors='ignore')\n",
    "print(onehotencodedtesting.shape)\n",
    "print(onehotencodedtraining.shape)"
   ]
  },
  {
   "cell_type": "code",
   "execution_count": 19,
   "metadata": {},
   "outputs": [],
   "source": [
    "#DROPPING CATEGORIAL VALS IF NO ONE HOT ENCODING\n",
    "training=training.drop(stringcol,axis=1)\n",
    "training=training.drop(['ID'],axis=1)\n",
    "testing=testing.drop(['ID'],axis=1)\n",
    "testing=testing.drop(stringcol,axis=1)"
   ]
  },
  {
   "cell_type": "code",
   "execution_count": 20,
   "metadata": {},
   "outputs": [],
   "source": [
    "#category drop vals\n",
    "x_training=training.drop(columns=['price_doc'])\n",
    "y_training=training['price_doc']"
   ]
  },
  {
   "cell_type": "code",
   "execution_count": 21,
   "metadata": {},
   "outputs": [
    {
     "name": "stdout",
     "output_type": "stream",
     "text": [
      "(100000, 41)\n",
      "(100000,)\n"
     ]
    }
   ],
   "source": [
    "#setting x and y for training data\n",
    "x=onehotencodedtraining.drop(columns=['price_doc'])\n",
    "y=onehotencodedtraining['price_doc']\n",
    "print(x.shape)\n",
    "print(y.shape)"
   ]
  },
  {
   "cell_type": "code",
   "execution_count": 22,
   "metadata": {},
   "outputs": [
    {
     "name": "stdout",
     "output_type": "stream",
     "text": [
      "(100000, 862)\n"
     ]
    }
   ],
   "source": [
    "poly =PolynomialFeatures(degree=2,interaction_only=True)\n",
    "x=poly.fit_transform(x)\n",
    "onehotencodedtesting=poly.fit_transform(onehotencodedtesting)\n",
    "print(x.shape)\n",
    "print(onehotencodedtesting.shape)"
   ]
  },
  {
   "cell_type": "code",
   "execution_count": 23,
   "metadata": {},
   "outputs": [
    {
     "name": "stdout",
     "output_type": "stream",
     "text": [
      "0.47373614724489865\n",
      "[ 7831793.34256735  5413741.42793527  6230325.73029262 ...\n",
      "  5291380.33939538 19601532.64931728  5701409.71175634]\n"
     ]
    },
    {
     "name": "stderr",
     "output_type": "stream",
     "text": [
      "c:\\Users\\HP\\AppData\\Local\\Programs\\Python\\Python310\\lib\\site-packages\\sklearn\\base.py:443: UserWarning: X has feature names, but HistGradientBoostingRegressor was fitted without feature names\n",
      "  warnings.warn(\n"
     ]
    },
    {
     "ename": "ValueError",
     "evalue": "X has 41 features, but HistGradientBoostingRegressor is expecting 862 features as input.",
     "output_type": "error",
     "traceback": [
      "\u001b[1;31m---------------------------------------------------------------------------\u001b[0m",
      "\u001b[1;31mValueError\u001b[0m                                Traceback (most recent call last)",
      "Cell \u001b[1;32mIn [23], line 8\u001b[0m\n\u001b[0;32m      5\u001b[0m \u001b[39mprint\u001b[39m(y_pred2)\n\u001b[0;32m      7\u001b[0m gradreg2\u001b[39m=\u001b[39mHistGradientBoostingRegressor(learning_rate\u001b[39m=\u001b[39m\u001b[39m0.1\u001b[39m,max_depth\u001b[39m=\u001b[39m\u001b[39m40\u001b[39m,random_state\u001b[39m=\u001b[39m\u001b[39m42\u001b[39m)\u001b[39m.\u001b[39mfit(x,y)\n\u001b[1;32m----> 8\u001b[0m y_pred\u001b[39m=\u001b[39mgradreg\u001b[39m.\u001b[39;49mpredict(onehotencodedtesting)\n\u001b[0;32m      9\u001b[0m \u001b[39mprint\u001b[39m(y_pred)\n\u001b[0;32m     11\u001b[0m \u001b[39m#print(gradreg.score(x_test,y_test))\u001b[39;00m\n\u001b[0;32m     12\u001b[0m \u001b[39m#decisiontree\u001b[39;00m\n\u001b[0;32m     13\u001b[0m \u001b[39m#treereg = DecisionTreeRegressor(max_depth=50,max_features=30, random_state=25)\u001b[39;00m\n\u001b[0;32m     14\u001b[0m \u001b[39m#treereg.fit(x,y)\u001b[39;00m\n",
      "File \u001b[1;32mc:\\Users\\HP\\AppData\\Local\\Programs\\Python\\Python310\\lib\\site-packages\\sklearn\\ensemble\\_hist_gradient_boosting\\gradient_boosting.py:1374\u001b[0m, in \u001b[0;36mHistGradientBoostingRegressor.predict\u001b[1;34m(self, X)\u001b[0m\n\u001b[0;32m   1371\u001b[0m check_is_fitted(\u001b[39mself\u001b[39m)\n\u001b[0;32m   1372\u001b[0m \u001b[39m# Return inverse link of raw predictions after converting\u001b[39;00m\n\u001b[0;32m   1373\u001b[0m \u001b[39m# shape (n_samples, 1) to (n_samples,)\u001b[39;00m\n\u001b[1;32m-> 1374\u001b[0m \u001b[39mreturn\u001b[39;00m \u001b[39mself\u001b[39m\u001b[39m.\u001b[39m_loss\u001b[39m.\u001b[39mlink\u001b[39m.\u001b[39minverse(\u001b[39mself\u001b[39;49m\u001b[39m.\u001b[39;49m_raw_predict(X)\u001b[39m.\u001b[39mravel())\n",
      "File \u001b[1;32mc:\\Users\\HP\\AppData\\Local\\Programs\\Python\\Python310\\lib\\site-packages\\sklearn\\ensemble\\_hist_gradient_boosting\\gradient_boosting.py:941\u001b[0m, in \u001b[0;36mBaseHistGradientBoosting._raw_predict\u001b[1;34m(self, X, n_threads)\u001b[0m\n\u001b[0;32m    939\u001b[0m is_binned \u001b[39m=\u001b[39m \u001b[39mgetattr\u001b[39m(\u001b[39mself\u001b[39m, \u001b[39m\"\u001b[39m\u001b[39m_in_fit\u001b[39m\u001b[39m\"\u001b[39m, \u001b[39mFalse\u001b[39;00m)\n\u001b[0;32m    940\u001b[0m \u001b[39mif\u001b[39;00m \u001b[39mnot\u001b[39;00m is_binned:\n\u001b[1;32m--> 941\u001b[0m     X \u001b[39m=\u001b[39m \u001b[39mself\u001b[39;49m\u001b[39m.\u001b[39;49m_validate_data(\n\u001b[0;32m    942\u001b[0m         X, dtype\u001b[39m=\u001b[39;49mX_DTYPE, force_all_finite\u001b[39m=\u001b[39;49m\u001b[39mFalse\u001b[39;49;00m, reset\u001b[39m=\u001b[39;49m\u001b[39mFalse\u001b[39;49;00m\n\u001b[0;32m    943\u001b[0m     )\n\u001b[0;32m    944\u001b[0m check_is_fitted(\u001b[39mself\u001b[39m)\n\u001b[0;32m    945\u001b[0m \u001b[39mif\u001b[39;00m X\u001b[39m.\u001b[39mshape[\u001b[39m1\u001b[39m] \u001b[39m!=\u001b[39m \u001b[39mself\u001b[39m\u001b[39m.\u001b[39m_n_features:\n",
      "File \u001b[1;32mc:\\Users\\HP\\AppData\\Local\\Programs\\Python\\Python310\\lib\\site-packages\\sklearn\\base.py:600\u001b[0m, in \u001b[0;36mBaseEstimator._validate_data\u001b[1;34m(self, X, y, reset, validate_separately, **check_params)\u001b[0m\n\u001b[0;32m    597\u001b[0m     out \u001b[39m=\u001b[39m X, y\n\u001b[0;32m    599\u001b[0m \u001b[39mif\u001b[39;00m \u001b[39mnot\u001b[39;00m no_val_X \u001b[39mand\u001b[39;00m check_params\u001b[39m.\u001b[39mget(\u001b[39m\"\u001b[39m\u001b[39mensure_2d\u001b[39m\u001b[39m\"\u001b[39m, \u001b[39mTrue\u001b[39;00m):\n\u001b[1;32m--> 600\u001b[0m     \u001b[39mself\u001b[39;49m\u001b[39m.\u001b[39;49m_check_n_features(X, reset\u001b[39m=\u001b[39;49mreset)\n\u001b[0;32m    602\u001b[0m \u001b[39mreturn\u001b[39;00m out\n",
      "File \u001b[1;32mc:\\Users\\HP\\AppData\\Local\\Programs\\Python\\Python310\\lib\\site-packages\\sklearn\\base.py:400\u001b[0m, in \u001b[0;36mBaseEstimator._check_n_features\u001b[1;34m(self, X, reset)\u001b[0m\n\u001b[0;32m    397\u001b[0m     \u001b[39mreturn\u001b[39;00m\n\u001b[0;32m    399\u001b[0m \u001b[39mif\u001b[39;00m n_features \u001b[39m!=\u001b[39m \u001b[39mself\u001b[39m\u001b[39m.\u001b[39mn_features_in_:\n\u001b[1;32m--> 400\u001b[0m     \u001b[39mraise\u001b[39;00m \u001b[39mValueError\u001b[39;00m(\n\u001b[0;32m    401\u001b[0m         \u001b[39mf\u001b[39m\u001b[39m\"\u001b[39m\u001b[39mX has \u001b[39m\u001b[39m{\u001b[39;00mn_features\u001b[39m}\u001b[39;00m\u001b[39m features, but \u001b[39m\u001b[39m{\u001b[39;00m\u001b[39mself\u001b[39m\u001b[39m.\u001b[39m\u001b[39m__class__\u001b[39m\u001b[39m.\u001b[39m\u001b[39m__name__\u001b[39m\u001b[39m}\u001b[39;00m\u001b[39m \u001b[39m\u001b[39m\"\u001b[39m\n\u001b[0;32m    402\u001b[0m         \u001b[39mf\u001b[39m\u001b[39m\"\u001b[39m\u001b[39mis expecting \u001b[39m\u001b[39m{\u001b[39;00m\u001b[39mself\u001b[39m\u001b[39m.\u001b[39mn_features_in_\u001b[39m}\u001b[39;00m\u001b[39m features as input.\u001b[39m\u001b[39m\"\u001b[39m\n\u001b[0;32m    403\u001b[0m     )\n",
      "\u001b[1;31mValueError\u001b[0m: X has 41 features, but HistGradientBoostingRegressor is expecting 862 features as input."
     ]
    }
   ],
   "source": [
    "x_train,x_test,y_train,y_test=train_test_split(x,y,test_size=0.3,random_state=42)\n",
    "gradreg=HistGradientBoostingRegressor(learning_rate=0.1,max_depth=40,random_state=42).fit(x_train,y_train)\n",
    "print(gradreg.score(x_test,y_test))\n",
    "y_pred2=gradreg.predict(x_test)\n",
    "print(y_pred2)\n",
    "\n",
    "gradreg2=HistGradientBoostingRegressor(learning_rate=0.1,max_depth=40,random_state=42).fit(x,y)\n",
    "y_pred=gradreg.predict(onehotencodedtesting)\n",
    "print(y_pred)\n",
    "\n",
    "#print(gradreg.score(x_test,y_test))\n",
    "#decisiontree\n",
    "#treereg = DecisionTreeRegressor(max_depth=50,max_features=30, random_state=25)\n",
    "#treereg.fit(x,y)\n"
   ]
  },
  {
   "cell_type": "code",
   "execution_count": null,
   "metadata": {},
   "outputs": [],
   "source": []
  },
  {
   "cell_type": "code",
   "execution_count": 49,
   "metadata": {},
   "outputs": [],
   "source": [
    "\n",
    "#y_pred = treereg.predict(onehotencodedtesting)\n"
   ]
  },
  {
   "cell_type": "code",
   "execution_count": 24,
   "metadata": {},
   "outputs": [],
   "source": [
    "submission=pd.read_csv(\"sample.csv\")\n",
    "submission['price_doc']=y_pred\n",
    "submission.to_csv(\"sample.csv\",index=False)"
   ]
  }
 ],
 "metadata": {
  "kernelspec": {
   "display_name": "Python 3.10.4 64-bit",
   "language": "python",
   "name": "python3"
  },
  "language_info": {
   "codemirror_mode": {
    "name": "ipython",
    "version": 3
   },
   "file_extension": ".py",
   "mimetype": "text/x-python",
   "name": "python",
   "nbconvert_exporter": "python",
   "pygments_lexer": "ipython3",
   "version": "3.10.4"
  },
  "orig_nbformat": 4,
  "vscode": {
   "interpreter": {
    "hash": "a9cff5a362bc38ef45d817ae74b1af54d6a076e3d773891282bce078b815ba34"
   }
  }
 },
 "nbformat": 4,
 "nbformat_minor": 2
}

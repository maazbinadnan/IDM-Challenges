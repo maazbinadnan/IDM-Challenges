{
 "cells": [
  {
   "cell_type": "code",
   "execution_count": 20,
   "metadata": {},
   "outputs": [],
   "source": [
    "import pandas as pd\n",
    "import os as os\n",
    "import numpy as np\n",
    "os.getcwd()\n",
    "training = pd.read_csv('Data.csv')\n",
    "training = training.drop(columns =['row ID'])"
   ]
  },
  {
   "cell_type": "code",
   "execution_count": 21,
   "metadata": {},
   "outputs": [
    {
     "name": "stdout",
     "output_type": "stream",
     "text": [
      "(2783, 132)\n"
     ]
    }
   ],
   "source": [
    "print(training.shape)\n",
    "#print(data.head())"
   ]
  },
  {
   "cell_type": "code",
   "execution_count": 22,
   "metadata": {},
   "outputs": [],
   "source": [
    "#low variance filter  and normalization\n",
    "from sklearn.preprocessing import normalize  \n",
    "from sklearn.feature_selection import VarianceThreshold\n",
    "from sklearn.metrics import silhouette_samples, silhouette_score"
   ]
  },
  {
   "cell_type": "code",
   "execution_count": 23,
   "metadata": {},
   "outputs": [
    {
     "ename": "ValueError",
     "evalue": "Expected 2D array, got scalar array instead:\narray=nan.\nReshape your data either using array.reshape(-1, 1) if your data has a single feature or array.reshape(1, -1) if it contains a single sample.",
     "output_type": "error",
     "traceback": [
      "\u001b[1;31m---------------------------------------------------------------------------\u001b[0m",
      "\u001b[1;31mValueError\u001b[0m                                Traceback (most recent call last)",
      "Cell \u001b[1;32mIn [23], line 3\u001b[0m\n\u001b[0;32m      1\u001b[0m \u001b[39m#low variance filter\u001b[39;00m\n\u001b[0;32m      2\u001b[0m varthreshold\u001b[39m=\u001b[39mVarianceThreshold(threshold\u001b[39m=\u001b[39m\u001b[39m0\u001b[39m)\n\u001b[1;32m----> 3\u001b[0m varthreshold\u001b[39m.\u001b[39;49mfit(data)\n\u001b[0;32m      4\u001b[0m lowvardata\u001b[39m=\u001b[39mvarthreshold\u001b[39m.\u001b[39mtransform(data)\n\u001b[0;32m      5\u001b[0m variablestokeep\u001b[39m=\u001b[39mvarthreshold\u001b[39m.\u001b[39mget_feature_names_out()\n",
      "File \u001b[1;32mc:\\Users\\HP\\AppData\\Local\\Programs\\Python\\Python310\\lib\\site-packages\\sklearn\\feature_selection\\_variance_threshold.py:91\u001b[0m, in \u001b[0;36mVarianceThreshold.fit\u001b[1;34m(self, X, y)\u001b[0m\n\u001b[0;32m     73\u001b[0m \u001b[39mdef\u001b[39;00m \u001b[39mfit\u001b[39m(\u001b[39mself\u001b[39m, X, y\u001b[39m=\u001b[39m\u001b[39mNone\u001b[39;00m):\n\u001b[0;32m     74\u001b[0m     \u001b[39m\"\"\"Learn empirical variances from X.\u001b[39;00m\n\u001b[0;32m     75\u001b[0m \n\u001b[0;32m     76\u001b[0m \u001b[39m    Parameters\u001b[39;00m\n\u001b[1;32m   (...)\u001b[0m\n\u001b[0;32m     89\u001b[0m \u001b[39m        Returns the instance itself.\u001b[39;00m\n\u001b[0;32m     90\u001b[0m \u001b[39m    \"\"\"\u001b[39;00m\n\u001b[1;32m---> 91\u001b[0m     X \u001b[39m=\u001b[39m \u001b[39mself\u001b[39;49m\u001b[39m.\u001b[39;49m_validate_data(\n\u001b[0;32m     92\u001b[0m         X,\n\u001b[0;32m     93\u001b[0m         accept_sparse\u001b[39m=\u001b[39;49m(\u001b[39m\"\u001b[39;49m\u001b[39mcsr\u001b[39;49m\u001b[39m\"\u001b[39;49m, \u001b[39m\"\u001b[39;49m\u001b[39mcsc\u001b[39;49m\u001b[39m\"\u001b[39;49m),\n\u001b[0;32m     94\u001b[0m         dtype\u001b[39m=\u001b[39;49mnp\u001b[39m.\u001b[39;49mfloat64,\n\u001b[0;32m     95\u001b[0m         force_all_finite\u001b[39m=\u001b[39;49m\u001b[39m\"\u001b[39;49m\u001b[39mallow-nan\u001b[39;49m\u001b[39m\"\u001b[39;49m,\n\u001b[0;32m     96\u001b[0m     )\n\u001b[0;32m     98\u001b[0m     \u001b[39mif\u001b[39;00m \u001b[39mhasattr\u001b[39m(X, \u001b[39m\"\u001b[39m\u001b[39mtoarray\u001b[39m\u001b[39m\"\u001b[39m):  \u001b[39m# sparse matrix\u001b[39;00m\n\u001b[0;32m     99\u001b[0m         _, \u001b[39mself\u001b[39m\u001b[39m.\u001b[39mvariances_ \u001b[39m=\u001b[39m mean_variance_axis(X, axis\u001b[39m=\u001b[39m\u001b[39m0\u001b[39m)\n",
      "File \u001b[1;32mc:\\Users\\HP\\AppData\\Local\\Programs\\Python\\Python310\\lib\\site-packages\\sklearn\\base.py:577\u001b[0m, in \u001b[0;36mBaseEstimator._validate_data\u001b[1;34m(self, X, y, reset, validate_separately, **check_params)\u001b[0m\n\u001b[0;32m    575\u001b[0m     \u001b[39mraise\u001b[39;00m \u001b[39mValueError\u001b[39;00m(\u001b[39m\"\u001b[39m\u001b[39mValidation should be done on X, y or both.\u001b[39m\u001b[39m\"\u001b[39m)\n\u001b[0;32m    576\u001b[0m \u001b[39melif\u001b[39;00m \u001b[39mnot\u001b[39;00m no_val_X \u001b[39mand\u001b[39;00m no_val_y:\n\u001b[1;32m--> 577\u001b[0m     X \u001b[39m=\u001b[39m check_array(X, input_name\u001b[39m=\u001b[39m\u001b[39m\"\u001b[39m\u001b[39mX\u001b[39m\u001b[39m\"\u001b[39m, \u001b[39m*\u001b[39m\u001b[39m*\u001b[39mcheck_params)\n\u001b[0;32m    578\u001b[0m     out \u001b[39m=\u001b[39m X\n\u001b[0;32m    579\u001b[0m \u001b[39melif\u001b[39;00m no_val_X \u001b[39mand\u001b[39;00m \u001b[39mnot\u001b[39;00m no_val_y:\n",
      "File \u001b[1;32mc:\\Users\\HP\\AppData\\Local\\Programs\\Python\\Python310\\lib\\site-packages\\sklearn\\utils\\validation.py:871\u001b[0m, in \u001b[0;36mcheck_array\u001b[1;34m(array, accept_sparse, accept_large_sparse, dtype, order, copy, force_all_finite, ensure_2d, allow_nd, ensure_min_samples, ensure_min_features, estimator, input_name)\u001b[0m\n\u001b[0;32m    868\u001b[0m \u001b[39mif\u001b[39;00m ensure_2d:\n\u001b[0;32m    869\u001b[0m     \u001b[39m# If input is scalar raise error\u001b[39;00m\n\u001b[0;32m    870\u001b[0m     \u001b[39mif\u001b[39;00m array\u001b[39m.\u001b[39mndim \u001b[39m==\u001b[39m \u001b[39m0\u001b[39m:\n\u001b[1;32m--> 871\u001b[0m         \u001b[39mraise\u001b[39;00m \u001b[39mValueError\u001b[39;00m(\n\u001b[0;32m    872\u001b[0m             \u001b[39m\"\u001b[39m\u001b[39mExpected 2D array, got scalar array instead:\u001b[39m\u001b[39m\\n\u001b[39;00m\u001b[39marray=\u001b[39m\u001b[39m{}\u001b[39;00m\u001b[39m.\u001b[39m\u001b[39m\\n\u001b[39;00m\u001b[39m\"\u001b[39m\n\u001b[0;32m    873\u001b[0m             \u001b[39m\"\u001b[39m\u001b[39mReshape your data either using array.reshape(-1, 1) if \u001b[39m\u001b[39m\"\u001b[39m\n\u001b[0;32m    874\u001b[0m             \u001b[39m\"\u001b[39m\u001b[39myour data has a single feature or array.reshape(1, -1) \u001b[39m\u001b[39m\"\u001b[39m\n\u001b[0;32m    875\u001b[0m             \u001b[39m\"\u001b[39m\u001b[39mif it contains a single sample.\u001b[39m\u001b[39m\"\u001b[39m\u001b[39m.\u001b[39mformat(array)\n\u001b[0;32m    876\u001b[0m         )\n\u001b[0;32m    877\u001b[0m     \u001b[39m# If input is 1D raise error\u001b[39;00m\n\u001b[0;32m    878\u001b[0m     \u001b[39mif\u001b[39;00m array\u001b[39m.\u001b[39mndim \u001b[39m==\u001b[39m \u001b[39m1\u001b[39m:\n",
      "\u001b[1;31mValueError\u001b[0m: Expected 2D array, got scalar array instead:\narray=nan.\nReshape your data either using array.reshape(-1, 1) if your data has a single feature or array.reshape(1, -1) if it contains a single sample."
     ]
    }
   ],
   "source": [
    "#low variance filter\n",
    "varthreshold=VarianceThreshold(threshold=0)\n",
    "varthreshold.fit(data)\n",
    "lowvardata=varthreshold.transform(data)\n",
    "variablestokeep=varthreshold.get_feature_names_out()\n",
    "#print(variablestokeep)\n",
    "#print(len(variablestokeep))\n",
    "print(lowvardata.shape)"
   ]
  },
  {
   "cell_type": "code",
   "execution_count": 30,
   "metadata": {},
   "outputs": [
    {
     "name": "stdout",
     "output_type": "stream",
     "text": [
      "['ulcers_on_tongue', 'cold_hands_and_feets', 'dehydration', 'yellowing_of_eyes', 'phlegm', 'chest_pain', 'weakness_in_limbs', 'puffy_face_and_eyes', 'enlarged_thyroid', 'brittle_nails', 'swollen_extremeties', 'hip_joint_pain', 'unsteadiness', 'internal_itching', 'abnormal_menstruation', 'visual_disturbances', 'receiving_blood_transfusion', 'receiving_unsterile_injections', 'coma', 'stomach_bleeding', 'distention_of_abdomen', 'history_of_alcohol_consumption', 'fluid_overload (#1)', 'blood_in_sputum', 'painful_walking', 'blackheads', 'scurring', 'silver_like_dusting', 'small_dents_in_nails', 'inflammatory_nails', 'red_sore_around_nose', 'yellow_crust_ooze']\n",
      "(2783, 100)\n"
     ]
    },
    {
     "name": "stderr",
     "output_type": "stream",
     "text": [
      "C:\\Users\\HP\\AppData\\Local\\Temp\\ipykernel_6520\\53890194.py:3: DeprecationWarning: `np.bool` is a deprecated alias for the builtin `bool`. To silence this warning, use `bool` by itself. Doing this will not modify any behavior and is safe. If you specifically wanted the numpy scalar type, use `np.bool_` here.\n",
      "Deprecated in NumPy 1.20; for more details and guidance: https://numpy.org/devdocs/release/1.20.0-notes.html#deprecations\n",
      "  upper_tri = cor_matrix.where(np.triu(np.ones(cor_matrix.shape),k=1).astype(np.bool))\n"
     ]
    }
   ],
   "source": [
    "#using correlation matrix to drop values\n",
    "cor_matrix = training.corr().abs()\n",
    "upper_tri = cor_matrix.where(np.triu(np.ones(cor_matrix.shape),k=1).astype(np.bool))\n",
    "#print(upper_tri)\n",
    "to_drop = [column for column in upper_tri.columns if any(upper_tri[column] > 0.8) ]\n",
    "print(to_drop)\n",
    "training = training.drop(columns = to_drop)\n",
    "print(training.shape)\n",
    "#onehotencodedtraining.drop(to_drop,axis=1,inplace=True)"
   ]
  },
  {
   "cell_type": "code",
   "execution_count": 31,
   "metadata": {},
   "outputs": [],
   "source": [
    "from sklearn.cluster import KMeans\n",
    "#kmeans = KMeans(n_clusters=15, random_state=100).fit(data.drop(columns =['row ID']))"
   ]
  },
  {
   "cell_type": "code",
   "execution_count": 32,
   "metadata": {},
   "outputs": [],
   "source": [
    "import matplotlib.pyplot as plt"
   ]
  },
  {
   "cell_type": "code",
   "execution_count": 33,
   "metadata": {},
   "outputs": [
    {
     "name": "stdout",
     "output_type": "stream",
     "text": [
      "   itching  skin_rash  nodal_skin_eruptions  continuous_sneezing  shivering  \\\n",
      "0        0          0                     0                    0          0   \n",
      "1        0          0                     0                    0          0   \n",
      "2        0          0                     0                    0          0   \n",
      "3        0          0                     0                    0          0   \n",
      "4        0          0                     0                    0          0   \n",
      "\n",
      "   chills  joint_pain  stomach_pain  acidity  muscle_wasting  ...  polyuria  \\\n",
      "0       0           0             1        1               0  ...         0   \n",
      "1       0           0             1        0               0  ...         0   \n",
      "2       0           0             1        1               0  ...         0   \n",
      "3       0           0             1        1               0  ...         0   \n",
      "4       0           0             1        1               0  ...         0   \n",
      "\n",
      "   family_history  mucoid_sputum  rusty_sputum  lack_of_concentration  \\\n",
      "0               0              0             0                      0   \n",
      "1               0              0             0                      0   \n",
      "2               0              0             0                      0   \n",
      "3               0              0             0                      0   \n",
      "4               0              0             0                      0   \n",
      "\n",
      "   prominent_veins_on_calf  palpitations  pus_filled_pimples  skin_peeling  \\\n",
      "0                        0             0                   0             0   \n",
      "1                        0             0                   0             0   \n",
      "2                        0             0                   0             0   \n",
      "3                        0             0                   0             0   \n",
      "4                        0             0                   0             0   \n",
      "\n",
      "   blister  \n",
      "0        0  \n",
      "1        0  \n",
      "2        0  \n",
      "3        0  \n",
      "4        0  \n",
      "\n",
      "[5 rows x 100 columns]\n",
      "[11388.694777281908, 9805.349092259507, 8743.71205924154, 8161.080479846102, 7450.687156811079, 6720.773304699957]\n"
     ]
    },
    {
     "data": {
      "text/plain": [
       "Text(0.5, 1.0, 'Elbow curve')"
      ]
     },
     "execution_count": 33,
     "metadata": {},
     "output_type": "execute_result"
    },
    {
     "data": {
      "image/png": "[encoded data removed]",
      "text/plain": [
       "<Figure size 1500x500 with 1 Axes>"
      ]
     },
     "metadata": {},
     "output_type": "display_data"
    }
   ],
   "source": [
    "#using elbow plot to find the optimal number of clusters\n",
    "print(training.head())\n",
    "sse = []\n",
    "for k in range(2, 8):\n",
    "    kmeans = KMeans(n_clusters=k, random_state=0).fit(training)\n",
    "    sse.append(kmeans.inertia_)\n",
    "print(sse)\n",
    "fig = plt.figure(figsize=(15, 5))\n",
    "plt.plot(range(2, 8), sse)\n",
    "plt.grid(True)\n",
    "plt.title('Elbow curve')"
   ]
  },
  {
   "cell_type": "code",
   "execution_count": 38,
   "metadata": {},
   "outputs": [
    {
     "name": "stdout",
     "output_type": "stream",
     "text": [
      "   itching  skin_rash  nodal_skin_eruptions  continuous_sneezing  shivering  \\\n",
      "0        0          0                     0                    0          0   \n",
      "1        0          0                     0                    0          0   \n",
      "2        0          0                     0                    0          0   \n",
      "3        0          0                     0                    0          0   \n",
      "4        0          0                     0                    0          0   \n",
      "\n",
      "   chills  joint_pain  stomach_pain  acidity  ulcers_on_tongue  ...  \\\n",
      "0       0           0             1        1                 1  ...   \n",
      "1       0           0             1        0                 1  ...   \n",
      "2       0           0             1        1                 0  ...   \n",
      "3       0           0             1        1                 1  ...   \n",
      "4       0           0             1        1                 1  ...   \n",
      "\n",
      "   pus_filled_pimples  blackheads  scurring  skin_peeling  \\\n",
      "0                   0           0         0             0   \n",
      "1                   0           0         0             0   \n",
      "2                   0           0         0             0   \n",
      "3                   0           0         0             0   \n",
      "4                   0           0         0             0   \n",
      "\n",
      "   silver_like_dusting  small_dents_in_nails  inflammatory_nails  blister  \\\n",
      "0                    0                     0                   0        0   \n",
      "1                    0                     0                   0        0   \n",
      "2                    0                     0                   0        0   \n",
      "3                    0                     0                   0        0   \n",
      "4                    0                     0                   0        0   \n",
      "\n",
      "   red_sore_around_nose  yellow_crust_ooze  \n",
      "0                     0                  0  \n",
      "1                     0                  0  \n",
      "2                     0                  0  \n",
      "3                     0                  0  \n",
      "4                     0                  0  \n",
      "\n",
      "[5 rows x 132 columns]\n"
     ]
    }
   ],
   "source": [
    "#running k means with 15 clusters\n",
    "print(training.head())\n",
    "kmeans = KMeans(n_clusters=4, random_state=0).fit(training)"
   ]
  },
  {
   "cell_type": "code",
   "execution_count": 39,
   "metadata": {},
   "outputs": [
    {
     "name": "stdout",
     "output_type": "stream",
     "text": [
      "0.2515553700805171\n"
     ]
    }
   ],
   "source": [
    "silhouetteavg=silhouette_score(lowvardata, kmeans.labels_)\n",
    "print(silhouetteavg)"
   ]
  },
  {
   "cell_type": "code",
   "execution_count": null,
   "metadata": {},
   "outputs": [],
   "source": [
    "submission=pd.read_csv('submission.csv')\n",
    "submission['cluster']=kmeans.labels_\n",
    "submission.to_csv('submission.csv',index=False)"
   ]
  }
 ],
 "metadata": {
  "kernelspec": {
   "display_name": "Python 3.10.4 64-bit",
   "language": "python",
   "name": "python3"
  },
  "language_info": {
   "codemirror_mode": {
    "name": "ipython",
    "version": 3
   },
   "file_extension": ".py",
   "mimetype": "text/x-python",
   "name": "python",
   "nbconvert_exporter": "python",
   "pygments_lexer": "ipython3",
   "version": "3.10.4"
  },
  "orig_nbformat": 4,
  "vscode": {
   "interpreter": {
    "hash": "a9cff5a362bc38ef45d817ae74b1af54d6a076e3d773891282bce078b815ba34"
   }
  }
 },
 "nbformat": 4,
 "nbformat_minor": 2
}

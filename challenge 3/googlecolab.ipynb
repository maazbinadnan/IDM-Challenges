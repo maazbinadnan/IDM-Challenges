{
  "cells": [
    {
      "cell_type": "code",
      "execution_count": 88,
      "metadata": {
        "id": "ULNyIOALqpNj"
      },
      "outputs": [],
      "source": [
        "import pandas as pd\n",
        "import os as os\n",
        "import numpy as np\n",
        "os.getcwd()\n",
        "training = pd.read_csv('Data.csv')\n",
        "training = training.drop(columns =['row ID'])"
      ]
    },
    {
      "cell_type": "code",
      "execution_count": 89,
      "metadata": {
        "colab": {
          "base_uri": "https://localhost:8080/"
        },
        "id": "WJbV2q64qpNu",
        "outputId": "0a8af737-3333-48c4-88e3-8e5148e02c92"
      },
      "outputs": [
        {
          "name": "stdout",
          "output_type": "stream",
          "text": [
            "(2783, 132)\n"
          ]
        }
      ],
      "source": [
        "print(training.shape)\n",
        "#print(data.head())"
      ]
    },
    {
      "cell_type": "code",
      "execution_count": 90,
      "metadata": {
        "id": "WzhKTrUcqpNw"
      },
      "outputs": [],
      "source": [
        "#low variance filter  and normalization\n",
        "from sklearn.preprocessing import normalize  \n",
        "from sklearn.feature_selection import VarianceThreshold\n",
        "from sklearn.metrics import silhouette_samples, silhouette_score"
      ]
    },
    {
      "cell_type": "code",
      "execution_count": 91,
      "metadata": {
        "id": "k5EVjWdMqpNx"
      },
      "outputs": [
        {
          "name": "stdout",
          "output_type": "stream",
          "text": [
            "['itching' 'skin_rash' 'chills' 'joint_pain' 'stomach_pain' 'acidity'\n",
            " 'ulcers_on_tongue' 'vomiting' 'fatigue' 'weight_gain'\n",
            " 'cold_hands_and_feets' 'mood_swings' 'weight_loss' 'restlessness'\n",
            " 'lethargy' 'cough' 'high_fever' 'sunken_eyes' 'breathlessness' 'sweating'\n",
            " 'dehydration' 'indigestion' 'headache' 'yellowish_skin' 'dark_urine'\n",
            " 'nausea' 'loss_of_appetite' 'back_pain' 'abdominal_pain' 'diarrhoea'\n",
            " 'mild_fever' 'yellow_urine' 'yellowing_of_eyes' 'acute_liver_failure'\n",
            " 'swelling_of_stomach' 'swelled_lymph_nodes' 'malaise'\n",
            " 'blurred_and_distorted_vision' 'phlegm' 'chest_pain' 'weakness_in_limbs'\n",
            " 'fast_heart_rate' 'neck_pain' 'dizziness' 'puffy_face_and_eyes'\n",
            " 'enlarged_thyroid' 'brittle_nails' 'swollen_extremeties'\n",
            " 'excessive_hunger' 'knee_pain' 'hip_joint_pain' 'muscle_weakness'\n",
            " 'stiff_neck' 'swelling_joints' 'movement_stiffness' 'spinning_movements'\n",
            " 'loss_of_balance' 'unsteadiness' 'passage_of_gases' 'internal_itching'\n",
            " 'depression' 'irritability' 'muscle_pain' 'abnormal_menstruation'\n",
            " 'family_history' 'mucoid_sputum' 'rusty_sputum' 'visual_disturbances'\n",
            " 'receiving_blood_transfusion' 'receiving_unsterile_injections' 'coma'\n",
            " 'stomach_bleeding' 'distention_of_abdomen'\n",
            " 'history_of_alcohol_consumption' 'fluid_overload (#1)' 'blood_in_sputum'\n",
            " 'painful_walking' 'pus_filled_pimples' 'blackheads' 'scurring'\n",
            " 'skin_peeling' 'silver_like_dusting' 'small_dents_in_nails'\n",
            " 'inflammatory_nails' 'blister' 'red_sore_around_nose' 'yellow_crust_ooze']\n",
            "87\n",
            "(2783, 87)\n"
          ]
        }
      ],
      "source": [
        "#low variance filter\n",
        "varthreshold=VarianceThreshold(threshold=0)\n",
        "varthreshold.fit(training)\n",
        "variablestokeep=varthreshold.get_feature_names_out()\n",
        "print(variablestokeep)\n",
        "print(len(variablestokeep))\n",
        "training=training[variablestokeep]\n",
        "print(training.shape)"
      ]
    },
    {
      "cell_type": "code",
      "execution_count": 92,
      "metadata": {
        "colab": {
          "base_uri": "https://localhost:8080/"
        },
        "id": "8BeKnz0wqpNy",
        "outputId": "31e8e4d9-a23c-4860-fe90-755620fe0c6f"
      },
      "outputs": [
        {
          "name": "stdout",
          "output_type": "stream",
          "text": [
            "['ulcers_on_tongue', 'cold_hands_and_feets', 'breathlessness', 'sweating', 'dehydration', 'dark_urine', 'abdominal_pain', 'yellowing_of_eyes', 'malaise', 'phlegm', 'chest_pain', 'weakness_in_limbs', 'fast_heart_rate', 'puffy_face_and_eyes', 'enlarged_thyroid', 'brittle_nails', 'swollen_extremeties', 'hip_joint_pain', 'unsteadiness', 'internal_itching', 'depression', 'irritability', 'abnormal_menstruation', 'rusty_sputum', 'visual_disturbances', 'receiving_blood_transfusion', 'receiving_unsterile_injections', 'coma', 'stomach_bleeding', 'distention_of_abdomen', 'history_of_alcohol_consumption', 'fluid_overload (#1)', 'blood_in_sputum', 'painful_walking', 'blackheads', 'scurring', 'silver_like_dusting', 'small_dents_in_nails', 'inflammatory_nails', 'red_sore_around_nose', 'yellow_crust_ooze']\n",
            "(2783, 46)\n"
          ]
        },
        {
          "name": "stderr",
          "output_type": "stream",
          "text": [
            "C:\\Users\\HP\\AppData\\Local\\Temp\\ipykernel_2900\\3988550498.py:3: DeprecationWarning: `np.bool` is a deprecated alias for the builtin `bool`. To silence this warning, use `bool` by itself. Doing this will not modify any behavior and is safe. If you specifically wanted the numpy scalar type, use `np.bool_` here.\n",
            "Deprecated in NumPy 1.20; for more details and guidance: https://numpy.org/devdocs/release/1.20.0-notes.html#deprecations\n",
            "  upper_tri = cor_matrix.where(np.triu(np.ones(cor_matrix.shape),k=1).astype(np.bool))\n"
          ]
        }
      ],
      "source": [
        "#using correlation matrix to drop values\n",
        "cor_matrix = training.corr().abs()\n",
        "upper_tri = cor_matrix.where(np.triu(np.ones(cor_matrix.shape),k=1).astype(np.bool))\n",
        "#print(upper_tri)\n",
        "to_drop = [column for column in upper_tri.columns if any(upper_tri[column] > 0.7) ]\n",
        "print(to_drop)\n",
        "training = training.drop(columns = to_drop)\n",
        "print(training.shape)\n",
        "#onehotencodedtraining.drop(to_drop,axis=1,inplace=True)"
      ]
    },
    {
      "cell_type": "code",
      "execution_count": 93,
      "metadata": {
        "id": "NzOWTgNYqpNy"
      },
      "outputs": [],
      "source": [
        "from sklearn.cluster import KMeans, AgglomerativeClustering\n",
        "#kmeans = KMeans(n_clusters=15, random_state=100).fit(data.drop(columns =['row ID']))"
      ]
    },
    {
      "cell_type": "code",
      "execution_count": 94,
      "metadata": {
        "id": "p6PQYjZjqpNz"
      },
      "outputs": [],
      "source": [
        "import matplotlib.pyplot as plt\n",
        "from scipy.cluster.hierarchy import dendrogram, linkage\n",
        "\n"
      ]
    },
    {
      "cell_type": "code",
      "execution_count": 95,
      "metadata": {
        "id": "6uHrz-8vqpN0"
      },
      "outputs": [
        {
          "name": "stdout",
          "output_type": "stream",
          "text": [
            "   itching  skin_rash  chills  joint_pain  stomach_pain  acidity  vomiting  \\\n",
            "0        0          0       0           0             1        1         1   \n",
            "1        0          0       0           0             1        0         1   \n",
            "2        0          0       0           0             1        1         1   \n",
            "3        0          0       0           0             1        1         0   \n",
            "4        0          0       0           0             1        1         1   \n",
            "\n",
            "   fatigue  weight_gain  mood_swings  ...  movement_stiffness  \\\n",
            "0        0            0            0  ...                   0   \n",
            "1        0            0            0  ...                   0   \n",
            "2        0            0            0  ...                   0   \n",
            "3        0            0            0  ...                   0   \n",
            "4        0            0            0  ...                   0   \n",
            "\n",
            "   spinning_movements  loss_of_balance  passage_of_gases  muscle_pain  \\\n",
            "0                   0                0                 0            0   \n",
            "1                   0                0                 0            0   \n",
            "2                   0                0                 0            0   \n",
            "3                   0                0                 0            0   \n",
            "4                   0                0                 0            0   \n",
            "\n",
            "   family_history  mucoid_sputum  pus_filled_pimples  skin_peeling  blister  \n",
            "0               0              0                   0             0        0  \n",
            "1               0              0                   0             0        0  \n",
            "2               0              0                   0             0        0  \n",
            "3               0              0                   0             0        0  \n",
            "4               0              0                   0             0        0  \n",
            "\n",
            "[5 rows x 46 columns]\n",
            "[9156.658353010616, 8162.245690161339, 7506.869215152689, 6765.698110979933, 6344.071455404961, 5819.930440771353]\n"
          ]
        },
        {
          "data": {
            "text/plain": [
              "Text(0.5, 1.0, 'Elbow curve')"
            ]
          },
          "execution_count": 95,
          "metadata": {},
          "output_type": "execute_result"
        },
        {
          "data": {
            "image/png": "[encoded data removed]",
            "text/plain": [
              "<Figure size 1500x500 with 1 Axes>"
            ]
          },
          "metadata": {},
          "output_type": "display_data"
        }
      ],
      "source": [
        "#using elbow plot to find the optimal number of clusters\n",
        "print(training.head())\n",
        "sse = []\n",
        "for k in range(2, 8):\n",
        "    kmeans = KMeans(n_clusters=k, random_state=0).fit(training)\n",
        "    sse.append(kmeans.inertia_)\n",
        "print(sse)\n",
        "fig = plt.figure(figsize=(15, 5))\n",
        "plt.plot(range(2, 8), sse)\n",
        "plt.grid(True)\n",
        "plt.title('Elbow curve')"
      ]
    },
    {
      "cell_type": "code",
      "execution_count": 96,
      "metadata": {
        "colab": {
          "base_uri": "https://localhost:8080/"
        },
        "id": "JCgqW8VcqpN1",
        "outputId": "a875d6df-cd96-48ce-f39e-a286e9caed5d"
      },
      "outputs": [
        {
          "data": {
            "text/html": [
              "<style>#sk-container-id-10 {color: black;background-color: white;}#sk-container-id-10 pre{padding: 0;}#sk-container-id-10 div.sk-toggleable {background-color: white;}#sk-container-id-10 label.sk-toggleable__label {cursor: pointer;display: block;width: 100%;margin-bottom: 0;padding: 0.3em;box-sizing: border-box;text-align: center;}#sk-container-id-10 label.sk-toggleable__label-arrow:before {content: \"▸\";float: left;margin-right: 0.25em;color: #696969;}#sk-container-id-10 label.sk-toggleable__label-arrow:hover:before {color: black;}#sk-container-id-10 div.sk-estimator:hover label.sk-toggleable__label-arrow:before {color: black;}#sk-container-id-10 div.sk-toggleable__content {max-height: 0;max-width: 0;overflow: hidden;text-align: left;background-color: #f0f8ff;}#sk-container-id-10 div.sk-toggleable__content pre {margin: 0.2em;color: black;border-radius: 0.25em;background-color: #f0f8ff;}#sk-container-id-10 input.sk-toggleable__control:checked~div.sk-toggleable__content {max-height: 200px;max-width: 100%;overflow: auto;}#sk-container-id-10 input.sk-toggleable__control:checked~label.sk-toggleable__label-arrow:before {content: \"▾\";}#sk-container-id-10 div.sk-estimator input.sk-toggleable__control:checked~label.sk-toggleable__label {background-color: #d4ebff;}#sk-container-id-10 div.sk-label input.sk-toggleable__control:checked~label.sk-toggleable__label {background-color: #d4ebff;}#sk-container-id-10 input.sk-hidden--visually {border: 0;clip: rect(1px 1px 1px 1px);clip: rect(1px, 1px, 1px, 1px);height: 1px;margin: -1px;overflow: hidden;padding: 0;position: absolute;width: 1px;}#sk-container-id-10 div.sk-estimator {font-family: monospace;background-color: #f0f8ff;border: 1px dotted black;border-radius: 0.25em;box-sizing: border-box;margin-bottom: 0.5em;}#sk-container-id-10 div.sk-estimator:hover {background-color: #d4ebff;}#sk-container-id-10 div.sk-parallel-item::after {content: \"\";width: 100%;border-bottom: 1px solid gray;flex-grow: 1;}#sk-container-id-10 div.sk-label:hover label.sk-toggleable__label {background-color: #d4ebff;}#sk-container-id-10 div.sk-serial::before {content: \"\";position: absolute;border-left: 1px solid gray;box-sizing: border-box;top: 0;bottom: 0;left: 50%;z-index: 0;}#sk-container-id-10 div.sk-serial {display: flex;flex-direction: column;align-items: center;background-color: white;padding-right: 0.2em;padding-left: 0.2em;position: relative;}#sk-container-id-10 div.sk-item {position: relative;z-index: 1;}#sk-container-id-10 div.sk-parallel {display: flex;align-items: stretch;justify-content: center;background-color: white;position: relative;}#sk-container-id-10 div.sk-item::before, #sk-container-id-10 div.sk-parallel-item::before {content: \"\";position: absolute;border-left: 1px solid gray;box-sizing: border-box;top: 0;bottom: 0;left: 50%;z-index: -1;}#sk-container-id-10 div.sk-parallel-item {display: flex;flex-direction: column;z-index: 1;position: relative;background-color: white;}#sk-container-id-10 div.sk-parallel-item:first-child::after {align-self: flex-end;width: 50%;}#sk-container-id-10 div.sk-parallel-item:last-child::after {align-self: flex-start;width: 50%;}#sk-container-id-10 div.sk-parallel-item:only-child::after {width: 0;}#sk-container-id-10 div.sk-dashed-wrapped {border: 1px dashed gray;margin: 0 0.4em 0.5em 0.4em;box-sizing: border-box;padding-bottom: 0.4em;background-color: white;}#sk-container-id-10 div.sk-label label {font-family: monospace;font-weight: bold;display: inline-block;line-height: 1.2em;}#sk-container-id-10 div.sk-label-container {text-align: center;}#sk-container-id-10 div.sk-container {/* jupyter's `normalize.less` sets `[hidden] { display: none; }` but bootstrap.min.css set `[hidden] { display: none !important; }` so we also need the `!important` here to be able to override the default hidden behavior on the sphinx rendered scikit-learn.org. See: https://github.com/scikit-learn/scikit-learn/issues/21755 */display: inline-block !important;position: relative;}#sk-container-id-10 div.sk-text-repr-fallback {display: none;}</style><div id=\"sk-container-id-10\" class=\"sk-top-container\"><div class=\"sk-text-repr-fallback\"><pre>AgglomerativeClustering(affinity=&#x27;cosine&#x27;, linkage=&#x27;average&#x27;, n_clusters=11)</pre><b>In a Jupyter environment, please rerun this cell to show the HTML representation or trust the notebook. <br />On GitHub, the HTML representation is unable to render, please try loading this page with nbviewer.org.</b></div><div class=\"sk-container\" hidden><div class=\"sk-item\"><div class=\"sk-estimator sk-toggleable\"><input class=\"sk-toggleable__control sk-hidden--visually\" id=\"sk-estimator-id-10\" type=\"checkbox\" checked><label for=\"sk-estimator-id-10\" class=\"sk-toggleable__label sk-toggleable__label-arrow\">AgglomerativeClustering</label><div class=\"sk-toggleable__content\"><pre>AgglomerativeClustering(affinity=&#x27;cosine&#x27;, linkage=&#x27;average&#x27;, n_clusters=11)</pre></div></div></div></div></div>"
            ],
            "text/plain": [
              "AgglomerativeClustering(affinity='cosine', linkage='average', n_clusters=11)"
            ]
          },
          "execution_count": 96,
          "metadata": {},
          "output_type": "execute_result"
        }
      ],
      "source": [
        "#running k means with 15 clusters\n",
        "aggclust=AgglomerativeClustering(n_clusters=12, affinity='cosine', linkage='average')\n",
        "aggclust.fit(training)"
      ]
    },
    {
      "cell_type": "code",
      "execution_count": 97,
      "metadata": {
        "colab": {
          "base_uri": "https://localhost:8080/"
        },
        "id": "4DuNLIhLqpN3",
        "outputId": "0f10873c-0c08-4e02-feb6-2d025c1f8b9b"
      },
      "outputs": [
        {
          "name": "stdout",
          "output_type": "stream",
          "text": [
            "0.4140823519858191\n"
          ]
        }
      ],
      "source": [
        "silhouetteavg=silhouette_score(training, aggclust.labels_)\n",
        "print(silhouetteavg)"
      ]
    },
    {
      "cell_type": "code",
      "execution_count": 98,
      "metadata": {},
      "outputs": [],
      "source": [
        "# linked = linkage(training, 'average')\n",
        "\n",
        "# labelList = range(1, 5)\n",
        "\n",
        "# plt.figure(figsize=(10, 7))\n",
        "# dendrogram(linked) ,\n",
        "# # #            orientation='top',\n",
        "# # #            labels=labelList,\n",
        "# # #            distance_sort='descending',\n",
        "# # #            show_leaf_counts=True)\n",
        "# plt.show()"
      ]
    },
    {
      "cell_type": "code",
      "execution_count": 99,
      "metadata": {
        "id": "kbWzMILuqpN4"
      },
      "outputs": [],
      "source": [
        "submission=pd.read_csv('submission.csv')\n",
        "submission['cluster']=aggclust.labels_\n",
        "submission.to_csv('submission.csv',index=False)"
      ]
    }
  ],
  "metadata": {
    "colab": {
      "provenance": []
    },
    "kernelspec": {
      "display_name": "Python 3.10.4 64-bit",
      "language": "python",
      "name": "python3"
    },
    "language_info": {
      "codemirror_mode": {
        "name": "ipython",
        "version": 3
      },
      "file_extension": ".py",
      "mimetype": "text/x-python",
      "name": "python",
      "nbconvert_exporter": "python",
      "pygments_lexer": "ipython3",
      "version": "3.10.4"
    },
    "orig_nbformat": 4,
    "vscode": {
      "interpreter": {
        "hash": "a9cff5a362bc38ef45d817ae74b1af54d6a076e3d773891282bce078b815ba34"
      }
    }
  },
  "nbformat": 4,
  "nbformat_minor": 0
}
